{
 "cells": [
  {
   "cell_type": "markdown",
   "id": "fb8f6ae8-813f-4d5f-9b3a-fc38a89088ac",
   "metadata": {},
   "source": [
    "Q1. What is Abstraction in OOps? Explain with an Example"
   ]
  },
  {
   "cell_type": "markdown",
   "id": "6678f6e5-1b8f-449f-929b-5ae59bc13821",
   "metadata": {},
   "source": [
    "Ans 1. Abstraction is the process of hiding unnecessory details and showing only the essential\n",
    "       information to the user."
   ]
  },
  {
   "cell_type": "code",
   "execution_count": 2,
   "id": "1d2e9ea9-b13f-45ba-a019-1b9eed5ae72e",
   "metadata": {},
   "outputs": [],
   "source": [
    "# Example of Abstraction\n",
    "\n",
    "import abc\n",
    "class Cars:\n",
    "    \n",
    "    @abc.abstractmethod\n",
    "    def Car_speed(self):\n",
    "        pass\n",
    "    \n",
    "    @abc.abstractmethod\n",
    "    def Car_Average(self):\n",
    "        pass\n",
    "    \n",
    "    @abc.abstractmethod\n",
    "    def Car_Colour(self):\n",
    "        pass\n",
    "    \n",
    "    @abc.abstractmethod\n",
    "    def Car_Model(self):\n",
    "        pass"
   ]
  },
  {
   "cell_type": "code",
   "execution_count": 3,
   "id": "b353c651-c019-4d65-8182-841ab055aac2",
   "metadata": {},
   "outputs": [],
   "source": [
    "class Mercedes(Cars):\n",
    "    \n",
    "    def Car_speed(self):\n",
    "        return \"Top speed of your Mercedes is 450KMPH\"\n",
    "    \n",
    "    def Car_Average(self):\n",
    "        return \"Average is 25KM/L\"\n",
    "    \n",
    "    def Car_Colour(self):\n",
    "        return \"Colour is Black\"\n",
    "    \n",
    "    def Car_Model(self):\n",
    "        return \"Model is 2023\""
   ]
  },
  {
   "cell_type": "code",
   "execution_count": 4,
   "id": "64bccb7d-4430-4e46-9b6b-a575bdc23e6c",
   "metadata": {},
   "outputs": [],
   "source": [
    "class Audi(Cars):\n",
    "    \n",
    "    def Car_speed(self):\n",
    "        return \"Top speed of your Audi is 400KMPH\"\n",
    "    \n",
    "    def Car_Average(self):\n",
    "        return \"Average is 28KM/L\"\n",
    "    \n",
    "    def Car_Colour(self):\n",
    "        return \"Colour is White\"\n",
    "    \n",
    "    def Car_Model(self):\n",
    "        return \"Model is 2022\""
   ]
  },
  {
   "cell_type": "code",
   "execution_count": 5,
   "id": "77aad13b-5c6b-4888-855e-2f114117d996",
   "metadata": {},
   "outputs": [],
   "source": [
    "Mercedes = Mercedes()\n",
    "Audi = Audi()"
   ]
  },
  {
   "cell_type": "code",
   "execution_count": 6,
   "id": "8ad2d248-687c-4cc8-924c-438040501553",
   "metadata": {},
   "outputs": [
    {
     "data": {
      "text/plain": [
       "('Top speed of your Mercedes is 450KMPH',\n",
       " 'Average is 25KM/L',\n",
       " 'Colour is Black',\n",
       " 'Model is 2023')"
      ]
     },
     "execution_count": 6,
     "metadata": {},
     "output_type": "execute_result"
    }
   ],
   "source": [
    "Mercedes.Car_speed(), Mercedes.Car_Average(), Mercedes.Car_Colour(), Mercedes.Car_Model()"
   ]
  },
  {
   "cell_type": "code",
   "execution_count": 7,
   "id": "391521a3-7141-4eec-a523-a92c53d7c885",
   "metadata": {},
   "outputs": [
    {
     "data": {
      "text/plain": [
       "('Top speed of your Audi is 400KMPH',\n",
       " 'Average is 28KM/L',\n",
       " 'Colour is White',\n",
       " 'Model is 2022')"
      ]
     },
     "execution_count": 7,
     "metadata": {},
     "output_type": "execute_result"
    }
   ],
   "source": [
    "Audi.Car_speed(), Audi.Car_Average(), Audi.Car_Colour(), Audi.Car_Model()"
   ]
  },
  {
   "cell_type": "markdown",
   "id": "ba0da2ab-3f63-44ac-9c1f-4dc0e5575d7c",
   "metadata": {},
   "source": [
    "Q2. Difference between Abstraction and Encapsulation. Explain with an example"
   ]
  },
  {
   "cell_type": "markdown",
   "id": "c524bea8-a7a8-4164-bd5d-3de9a0459287",
   "metadata": {},
   "source": [
    "Ans2. Encapsualation prevent user to modify the variable and it is not visible to the user if user want it to be seen or modified then user has to use get and set function but in Abstraction \n",
    "      user can't access unnecessory details but  can access some of the important details"
   ]
  },
  {
   "cell_type": "code",
   "execution_count": 8,
   "id": "356495f4-c6f9-4d4b-9e15-3240e6e5689b",
   "metadata": {},
   "outputs": [],
   "source": [
    "# Example of Abstraction is given above\n",
    "\n",
    "# Example of Encapsulation"
   ]
  },
  {
   "cell_type": "code",
   "execution_count": 9,
   "id": "e6fef5c7-5e37-4387-9315-be6b0b1dd6fb",
   "metadata": {},
   "outputs": [],
   "source": [
    "class Top_hiring_Companies:\n",
    "    \n",
    "    def __init__(self,Company_1, Company_2, Company_3, Company_4, Company_5):\n",
    "        self.__Company_1 = \"Google\"\n",
    "        self.__Company_2 = Company_2\n",
    "        self.__Company_3 = Company_3\n",
    "        self.__Company_4 = \"McKinsey\"\n",
    "        self.__Company_5 = Company_5"
   ]
  },
  {
   "cell_type": "code",
   "execution_count": 10,
   "id": "9aded4e2-cd75-4b23-b38d-1275f9fb4113",
   "metadata": {},
   "outputs": [],
   "source": [
    "Companies = Top_hiring_Companies(\"VFS Global\", \"Accenture\", \"Deloitte\", \"McKinsey\", \"Tech Mahindra\")"
   ]
  },
  {
   "cell_type": "code",
   "execution_count": 11,
   "id": "d6fddd0a-84b7-449c-be2f-922ed6561f5e",
   "metadata": {},
   "outputs": [
    {
     "ename": "AttributeError",
     "evalue": "'Top_hiring_Companies' object has no attribute 'Top_hiring_Companies__Company_1'",
     "output_type": "error",
     "traceback": [
      "\u001b[0;31m---------------------------------------------------------------------------\u001b[0m",
      "\u001b[0;31mAttributeError\u001b[0m                            Traceback (most recent call last)",
      "Cell \u001b[0;32mIn[11], line 1\u001b[0m\n\u001b[0;32m----> 1\u001b[0m \u001b[43mCompanies\u001b[49m\u001b[38;5;241;43m.\u001b[39;49m\u001b[43mTop_hiring_Companies__Company_1\u001b[49m\n",
      "\u001b[0;31mAttributeError\u001b[0m: 'Top_hiring_Companies' object has no attribute 'Top_hiring_Companies__Company_1'"
     ]
    }
   ],
   "source": [
    "Companies.Top_hiring_Companies__Company_1"
   ]
  },
  {
   "cell_type": "code",
   "execution_count": 12,
   "id": "5ee3fe0c-c9c4-40ed-8873-e8fb3ed2440a",
   "metadata": {},
   "outputs": [
    {
     "data": {
      "text/plain": [
       "('Google', 'Accenture', 'Deloitte', 'McKinsey', 'Tech Mahindra')"
      ]
     },
     "execution_count": 12,
     "metadata": {},
     "output_type": "execute_result"
    }
   ],
   "source": [
    "Companies._Top_hiring_Companies__Company_1, Companies._Top_hiring_Companies__Company_2, Companies._Top_hiring_Companies__Company_3, Companies._Top_hiring_Companies__Company_4, Companies._Top_hiring_Companies__Company_5"
   ]
  },
  {
   "cell_type": "markdown",
   "id": "3d68d45b-19d4-4d75-9e12-6c76d3057aec",
   "metadata": {},
   "source": [
    "Q3. What is abc module in python? Why it is used?"
   ]
  },
  {
   "cell_type": "markdown",
   "id": "bc469bd4-a43d-409c-84f3-d7246aff2197",
   "metadata": {},
   "source": [
    "Ans3. The abc module in python provides infrastructure for defining Abstract base class it is used to create a set of methods for that must be created within any child class built from abstract class."
   ]
  },
  {
   "cell_type": "markdown",
   "id": "95af7c06-021d-4b13-b6ea-69d5a285a811",
   "metadata": {},
   "source": [
    "Q4. How can we achieve data abstraction?"
   ]
  },
  {
   "cell_type": "markdown",
   "id": "7cc75c05-89f9-412c-98c5-1ca59051d82f",
   "metadata": {},
   "source": [
    "Ans4. We can achieve data abstraction by importing abstract class method by calling abc module and creating a class which act as a blueprint for child classes for calling out we have to call @abstractmethod and then make a function within a class to achieve it."
   ]
  },
  {
   "cell_type": "markdown",
   "id": "0c7adac6-60e1-46fa-92f3-b672c19eb1bb",
   "metadata": {},
   "source": [
    "Q5. Can we create an instance of an abstract class? Explain your answer."
   ]
  },
  {
   "cell_type": "markdown",
   "id": "4be23653-4744-46f2-826f-b70f4e7b6491",
   "metadata": {},
   "source": [
    "Ans5. No we can not create instance of an abstract class. An abstract class acts like a template or an empty structure and it does not have complete implementation"
   ]
  },
  {
   "cell_type": "code",
   "execution_count": null,
   "id": "66e53c91-7116-4a11-8cd1-ed80cf520f92",
   "metadata": {},
   "outputs": [],
   "source": []
  }
 ],
 "metadata": {
  "kernelspec": {
   "display_name": "Python 3 (ipykernel)",
   "language": "python",
   "name": "python3"
  },
  "language_info": {
   "codemirror_mode": {
    "name": "ipython",
    "version": 3
   },
   "file_extension": ".py",
   "mimetype": "text/x-python",
   "name": "python",
   "nbconvert_exporter": "python",
   "pygments_lexer": "ipython3",
   "version": "3.10.8"
  }
 },
 "nbformat": 4,
 "nbformat_minor": 5
}
