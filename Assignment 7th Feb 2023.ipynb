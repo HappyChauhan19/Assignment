{
 "cells": [
  {
   "cell_type": "markdown",
   "id": "21e096b5-9555-49f7-9f89-c98ea2bca475",
   "metadata": {},
   "source": [
    "Q1. You are writing code for a company. The requirement of the company is that you create a python\n",
    "function that will check whether the password entered by the user is correct or not. The function should\n",
    "take the password as input and return the string “Valid Password” if the entered password follows the\n",
    "below-given password guidelines else it should return “Invalid Password”.\n",
    "Note: 1. The Password should contain at least two uppercase letters and at least two lowercase letters.\n",
    "2. The Password should contain at least a number and three special characters.\n",
    "3. The length of the password should be 10 characters long.\n"
   ]
  },
  {
   "cell_type": "code",
   "execution_count": 1,
   "id": "fdcfec58-9b88-4ec0-9cda-8538930a9641",
   "metadata": {},
   "outputs": [
    {
     "name": "stdin",
     "output_type": "stream",
     "text": [
      "Enter Your Password: H@ppy@Ch@2\n"
     ]
    },
    {
     "name": "stdout",
     "output_type": "stream",
     "text": [
      "Valid Password\n"
     ]
    }
   ],
   "source": [
    "Password = input(\"Enter Your Password:\")\n",
    "Validity = \"Valid Password\"\n",
    "Invalidity = \"Invalid Password\"\n",
    "lower = 0\n",
    "upper = 0\n",
    "digit = 0\n",
    "special_Character = 0\n",
    "if (len(Password) == 10):\n",
    "    for i in Password:\n",
    "        if (i.islower()):\n",
    "            lower = lower + 1\n",
    "        if (i.isupper()):\n",
    "            upper = upper + 1\n",
    "        if (i.isdigit()):\n",
    "            digit = digit + 1\n",
    "        if (i== \"@\" or i == \"!\" or i == \"#\" or i == \"$\" or i == \"%\" or i == \"^\" or i == \"&\" or i == \"*\" or i == \"_\"):\n",
    "            special_Character = special_Character + 1\n",
    "if (lower >= 2 and upper >= 2 and digit >= 1 and special_Character >= 3):\n",
    "    print(Validity)\n",
    "else:\n",
    "    print(Invalidity)"
   ]
  },
  {
   "cell_type": "markdown",
   "id": "1a338bfb-048a-42e7-a7fb-1bb5eae722e3",
   "metadata": {},
   "source": [
    "Q2. Solve the below-given questions using at least one of the following:\n",
    "1. Lambda function\n",
    "2. Filter function\n",
    "3. Map function\n",
    "4. List Comprehension\n",
    "     Check if the string starts with a particular letter.\n",
    "     Check if the string is numeric.\n",
    "     Sort a list of tuples having fruit names and their quantity. [(\"mango\",99),(\"orange\",80), (\"grapes\", 1000).\n",
    "     Find the squares of numbers from 1 to 10.\n",
    "     Find the cube root of numbers from 1 to 10.\n",
    "     Check if a given number is even.\n",
    "     Filter odd numbers from the given list.\n",
    "        [1,2,3,4,5,6,7,8,9,10]\n",
    "     Sort a list of integers into positive and negative integers lists.\n",
    "        [1,2,3,4,5,6,-1,-2,-3,-4,-5,0]"
   ]
  },
  {
   "cell_type": "code",
   "execution_count": 2,
   "id": "ca29ca06-6f6c-401f-8bb3-0620596553ec",
   "metadata": {},
   "outputs": [],
   "source": [
    "Fruits = [(\"mango\",99),(\"orange\",80),(\"grapes\",1000)]"
   ]
  },
  {
   "cell_type": "code",
   "execution_count": 3,
   "id": "c2639746-9775-46f4-a567-86c6d1b50291",
   "metadata": {},
   "outputs": [
    {
     "name": "stdin",
     "output_type": "stream",
     "text": [
      "Enter the String here: I am Happy Chauhan.\n"
     ]
    },
    {
     "name": "stdout",
     "output_type": "stream",
     "text": [
      "Condition is True.\n"
     ]
    }
   ],
   "source": [
    "String = input(\"Enter the String here:\")\n",
    "for i in String:\n",
    "    if list(iter(i))[-1] == \"I\":\n",
    "        print(\"Condition is True.\")\n",
    "    else:\n",
    "        break"
   ]
  },
  {
   "cell_type": "code",
   "execution_count": 4,
   "id": "c44f535d-de65-4a12-92a0-0cfc298946d0",
   "metadata": {},
   "outputs": [
    {
     "name": "stdin",
     "output_type": "stream",
     "text": [
      "Enter the String here: 19022000\n"
     ]
    },
    {
     "name": "stdout",
     "output_type": "stream",
     "text": [
      "It is numeric string.\n"
     ]
    }
   ],
   "source": [
    "string = input('Enter the String here:')\n",
    "if string.isdigit():\n",
    "    print(\"It is numeric string.\")\n",
    "else:\n",
    "    print(\"It is not a numeric String.\")"
   ]
  },
  {
   "cell_type": "code",
   "execution_count": 5,
   "id": "e08280ef-f465-4643-8640-2586968524e4",
   "metadata": {},
   "outputs": [
    {
     "data": {
      "text/plain": [
       "['orange', 80, 'mango', 99, 'grapes', 1000]"
      ]
     },
     "execution_count": 5,
     "metadata": {},
     "output_type": "execute_result"
    }
   ],
   "source": [
    "sorted_list = []\n",
    "for i in Fruits:\n",
    "    if i[1] > 0 and i[1] <= 90:\n",
    "        sorted_list.extend(i)\n",
    "sorted_list\n",
    "for i in Fruits:\n",
    "    if i[1] > 90 and i[1] <= 100:\n",
    "        sorted_list.extend(i)\n",
    "sorted_list\n",
    "for i in Fruits:\n",
    "    if i[1] > 100 :\n",
    "        sorted_list.extend(i)\n",
    "sorted_list"
   ]
  },
  {
   "cell_type": "code",
   "execution_count": 6,
   "id": "9cd85afb-46c2-4f99-ba79-093402b485ad",
   "metadata": {},
   "outputs": [
    {
     "data": {
      "text/plain": [
       "[1, 4, 9, 16, 25, 36, 49, 64, 81, 100]"
      ]
     },
     "execution_count": 6,
     "metadata": {},
     "output_type": "execute_result"
    }
   ],
   "source": [
    "list(map(lambda x : x**2, range(1,11)))"
   ]
  },
  {
   "cell_type": "code",
   "execution_count": 7,
   "id": "7a6be281-4b5c-407c-b1bf-7a375ec591d7",
   "metadata": {},
   "outputs": [
    {
     "data": {
      "text/plain": [
       "[1, 8, 27, 64, 125, 216, 343, 512, 729, 1000]"
      ]
     },
     "execution_count": 7,
     "metadata": {},
     "output_type": "execute_result"
    }
   ],
   "source": [
    "list(map(lambda x : x**3, range(1,11)))"
   ]
  },
  {
   "cell_type": "code",
   "execution_count": 8,
   "id": "a4e2221b-9c28-4f7c-9c25-6796ace875b8",
   "metadata": {},
   "outputs": [
    {
     "name": "stdin",
     "output_type": "stream",
     "text": [
      "Enter the Digit here. 34873932\n"
     ]
    },
    {
     "name": "stdout",
     "output_type": "stream",
     "text": [
      "Number is Even.\n"
     ]
    }
   ],
   "source": [
    "Number = int(input(\"Enter the Digit here.\"))\n",
    "if Number%2 == 0:\n",
    "    print(\"Number is Even.\")\n",
    "else:\n",
    "    print(\"This Number is Odd.\")"
   ]
  },
  {
   "cell_type": "code",
   "execution_count": 9,
   "id": "0d76d7e1-2738-4da4-acf7-39ff26aecc73",
   "metadata": {},
   "outputs": [],
   "source": [
    "Natural_Numbers = list(range(1,11))"
   ]
  },
  {
   "cell_type": "code",
   "execution_count": 10,
   "id": "b90f26a1-cb48-4de4-a638-6abed08ebf7d",
   "metadata": {},
   "outputs": [
    {
     "data": {
      "text/plain": [
       "[1, 3, 5, 7, 9]"
      ]
     },
     "execution_count": 10,
     "metadata": {},
     "output_type": "execute_result"
    }
   ],
   "source": [
    "list(filter(lambda x : x % 2 == 1, Natural_Numbers))"
   ]
  },
  {
   "cell_type": "code",
   "execution_count": 11,
   "id": "736c16f4-bd2c-4ac9-8984-22435006a550",
   "metadata": {},
   "outputs": [],
   "source": [
    "Integers = range(-5, 7)"
   ]
  },
  {
   "cell_type": "code",
   "execution_count": 12,
   "id": "a4025d1e-0df7-4b07-8bec-095e44697b28",
   "metadata": {},
   "outputs": [
    {
     "name": "stdout",
     "output_type": "stream",
     "text": [
      "The Positive Integers are [1, 2, 3, 4, 5, 6]\n",
      "The Negative Integers are [-5, -4, -3, -2, -1]\n",
      "[0]\n"
     ]
    }
   ],
   "source": [
    "Positive_Integers = []\n",
    "Negative_Integers = []\n",
    "Zero = []\n",
    "for i in Integers:\n",
    "    if i == -6 or i == -5 or i == -4 or i == -3 or i == -2 or i == -1:\n",
    "        Negative_Integers.append(i)\n",
    "    elif i == 1 or i == 2 or i == 3 or i == 4 or i == 5 or i == 6:\n",
    "        Positive_Integers.append(i)\n",
    "    else:\n",
    "        Zero.append(i)\n",
    "print(\"The Positive Integers are\", Positive_Integers)\n",
    "print(\"The Negative Integers are\", Negative_Integers)\n",
    "print(Zero)"
   ]
  }
 ],
 "metadata": {
  "kernelspec": {
   "display_name": "Python 3 (ipykernel)",
   "language": "python",
   "name": "python3"
  },
  "language_info": {
   "codemirror_mode": {
    "name": "ipython",
    "version": 3
   },
   "file_extension": ".py",
   "mimetype": "text/x-python",
   "name": "python",
   "nbconvert_exporter": "python",
   "pygments_lexer": "ipython3",
   "version": "3.10.8"
  }
 },
 "nbformat": 4,
 "nbformat_minor": 5
}
