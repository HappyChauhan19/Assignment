{
 "cells": [
  {
   "cell_type": "markdown",
   "id": "0fb024f4-dfb2-4446-a13a-2c9264eec3e7",
   "metadata": {},
   "source": [
    "Q1. Explain Class and Object with respect to Object-Oriented Programming. Give a suitable example."
   ]
  },
  {
   "cell_type": "markdown",
   "id": "ea24d48a-9536-4fcb-b744-9ece78d1ba4f",
   "metadata": {},
   "source": [
    "Ans 1."
   ]
  },
  {
   "cell_type": "markdown",
   "id": "e0d4ffe5-7cbb-408e-a4af-650d5250a2c7",
   "metadata": {},
   "source": [
    "Classes are user defined data types that act as blueprint or structure for individual objects, attributes and Methods.\n",
    "We can give any name to the class but it must start with a \"class\" syntax."
   ]
  },
  {
   "cell_type": "markdown",
   "id": "d8a19b9b-f791-47e1-a2fc-dec7b9aaabdd",
   "metadata": {},
   "source": [
    "for example"
   ]
  },
  {
   "cell_type": "code",
   "execution_count": 1,
   "id": "baea607e-7f15-434b-96a7-e5251580c131",
   "metadata": {},
   "outputs": [],
   "source": [
    "class example:\n",
    "    def Test(self):\n",
    "        print(\"This is a string which proves I gave correct example.\")"
   ]
  },
  {
   "cell_type": "markdown",
   "id": "9781c1c1-4ef3-4db8-a5c3-9c6af0a1c387",
   "metadata": {},
   "source": [
    "Objects are instances of a class created with specifically defined data"
   ]
  },
  {
   "cell_type": "markdown",
   "id": "80224024-1032-4d6a-a0db-f870122afe0e",
   "metadata": {},
   "source": [
    "for example"
   ]
  },
  {
   "cell_type": "code",
   "execution_count": 2,
   "id": "f3c7387a-d6dc-4ecc-8acc-cb09b20f1087",
   "metadata": {},
   "outputs": [],
   "source": [
    "Example = example()"
   ]
  },
  {
   "cell_type": "code",
   "execution_count": 3,
   "id": "6e0c6639-740f-4031-a7d6-2aac8ae81be9",
   "metadata": {},
   "outputs": [
    {
     "name": "stdout",
     "output_type": "stream",
     "text": [
      "This is a string which proves I gave correct example.\n"
     ]
    }
   ],
   "source": [
    "Example.Test()"
   ]
  },
  {
   "cell_type": "markdown",
   "id": "d48be1b7-5015-4425-bb5a-c27936e171a3",
   "metadata": {},
   "source": [
    "Q2. Name the four pillars of OOPs."
   ]
  },
  {
   "cell_type": "markdown",
   "id": "bb3872a8-8067-4b39-a18c-588eb2472105",
   "metadata": {},
   "source": [
    "Ans 2."
   ]
  },
  {
   "cell_type": "markdown",
   "id": "b991a9da-4ebf-47d2-9392-850ac8bc6dc9",
   "metadata": {},
   "source": [
    "Encapsulation, Abstraction, Inheritance and Polymorphism"
   ]
  },
  {
   "cell_type": "raw",
   "id": "ac257ebc-c522-43c2-a4a2-f9ab006105c3",
   "metadata": {},
   "source": [
    "Q3. Explain why the __init__() function is used. Give a suitable example."
   ]
  },
  {
   "cell_type": "markdown",
   "id": "8ea44a28-85a6-43a7-bccf-d9d1fa64bc13",
   "metadata": {},
   "source": [
    "Ans 3."
   ]
  },
  {
   "cell_type": "raw",
   "id": "1887c820-d108-425b-8cf4-85528f628d52",
   "metadata": {},
   "source": [
    "__init()__ function is used to initialize the attributes of a class."
   ]
  },
  {
   "cell_type": "code",
   "execution_count": 4,
   "id": "66f9d1a4-487b-405c-82e3-b860db04bb1e",
   "metadata": {},
   "outputs": [],
   "source": [
    "class another_example:\n",
    "    def __init__(self, Name, Date, Phone_number):\n",
    "        self.Name = Name\n",
    "        self.Date = Date\n",
    "        self.Phone_number = Phone_number\n",
    "    def Details(self):\n",
    "        return self.Name, self.Date, self.Phone_number"
   ]
  },
  {
   "cell_type": "code",
   "execution_count": 5,
   "id": "a4345ab9-feeb-44ae-ba5d-e8ad497fb9a6",
   "metadata": {},
   "outputs": [],
   "source": [
    "go = another_example(\"Happy Chauhan\", \"30th March, 2023\", 7011535418)"
   ]
  },
  {
   "cell_type": "code",
   "execution_count": 6,
   "id": "44e33be4-3392-4728-b3ee-8a303d551e85",
   "metadata": {},
   "outputs": [
    {
     "data": {
      "text/plain": [
       "('Happy Chauhan', '30th March, 2023', 7011535418)"
      ]
     },
     "execution_count": 6,
     "metadata": {},
     "output_type": "execute_result"
    }
   ],
   "source": [
    "go.Details()"
   ]
  },
  {
   "cell_type": "markdown",
   "id": "d2534bfd-4c9a-4c23-93c8-0f20517892eb",
   "metadata": {},
   "source": [
    "Q4. Why self is used in OOPs?"
   ]
  },
  {
   "cell_type": "markdown",
   "id": "57ee9eda-70b0-4ecc-b80b-d1fe6b7a9940",
   "metadata": {},
   "source": [
    "Ans 4."
   ]
  },
  {
   "cell_type": "markdown",
   "id": "f6383031-2540-402b-a6f4-8e59e9d75522",
   "metadata": {},
   "source": [
    "self is not a reserved keyword we can write any of the word but it is necessary because it allows us to access the method, attribute or variable."
   ]
  },
  {
   "cell_type": "markdown",
   "id": "36f1f5ff-616f-400a-98a4-141c2e8e2b35",
   "metadata": {},
   "source": [
    "Q5. What is inheritance? Give an example for each type of inheritance."
   ]
  },
  {
   "cell_type": "markdown",
   "id": "eba1ab91-e211-4393-bb39-cbda590604f7",
   "metadata": {},
   "source": [
    "Ans 5."
   ]
  },
  {
   "cell_type": "markdown",
   "id": "79b3d43c-f2e1-486b-9fe2-9b3b9681035d",
   "metadata": {},
   "source": [
    "Inheritance is a pillar of the OOPs. It helps us to define a class that inherit all the methods and properties\n",
    "from another class. There are two types of inheritance 1. Single inheritance, 2. Multiple inheritance"
   ]
  },
  {
   "cell_type": "markdown",
   "id": "d1e2d148-7de7-47d8-b8c8-4120d20ec0cb",
   "metadata": {},
   "source": [
    "Single Inheritance Example"
   ]
  },
  {
   "cell_type": "code",
   "execution_count": 7,
   "id": "8a9fd693-3d4b-4c65-be3e-4995d3ab6229",
   "metadata": {},
   "outputs": [],
   "source": [
    "class Raja_Ramchandra:\n",
    "    def Glory(self):\n",
    "        return \"Raja Rama was a God and he was an ideal son.\""
   ]
  },
  {
   "cell_type": "code",
   "execution_count": 8,
   "id": "2d6779a5-5406-4b1b-8932-b72393c572ca",
   "metadata": {},
   "outputs": [],
   "source": [
    "class Ramayan(Raja_Ramchandra):\n",
    "    pass"
   ]
  },
  {
   "cell_type": "code",
   "execution_count": 9,
   "id": "bdcaa2d3-22e7-48ff-960f-2afd37a56b95",
   "metadata": {},
   "outputs": [],
   "source": [
    "Ram = Ramayan()"
   ]
  },
  {
   "cell_type": "code",
   "execution_count": 10,
   "id": "298300b9-941b-40ee-82d4-e6add45be264",
   "metadata": {},
   "outputs": [
    {
     "data": {
      "text/plain": [
       "'Raja Rama was a God and he was an ideal son.'"
      ]
     },
     "execution_count": 10,
     "metadata": {},
     "output_type": "execute_result"
    }
   ],
   "source": [
    "Ram.Glory()"
   ]
  },
  {
   "cell_type": "markdown",
   "id": "e5157d63-b89b-4549-a99e-117bc22e2b13",
   "metadata": {},
   "source": [
    "Multiple Inheritance Example"
   ]
  },
  {
   "cell_type": "code",
   "execution_count": 11,
   "id": "9362f7cd-980c-415e-b0b3-b9f8892d8ff3",
   "metadata": {},
   "outputs": [],
   "source": [
    "class Narendra_Modi:\n",
    "    def Prime_Minister(self):\n",
    "        return \"Mr. Narendra Damodar Das Modi is the Prime Minister of INDIA.\""
   ]
  },
  {
   "cell_type": "code",
   "execution_count": 12,
   "id": "88be5a5a-aa5c-4d3b-a226-8b1d21e79fb4",
   "metadata": {},
   "outputs": [],
   "source": [
    "class Arivind_Kejriwal:\n",
    "    def Cheif_Minister(self):\n",
    "        return \"Mr. Arvind Kejriwal is the Cheif Minister of Delhi.\""
   ]
  },
  {
   "cell_type": "code",
   "execution_count": 13,
   "id": "b620f781-eadf-4892-8502-f104e1eafdc9",
   "metadata": {},
   "outputs": [],
   "source": [
    "class Govt_Officials(Narendra_Modi, Arivind_Kejriwal):\n",
    "    pass"
   ]
  },
  {
   "cell_type": "code",
   "execution_count": 14,
   "id": "f41941cb-d774-43ed-967c-9ba7bcde6767",
   "metadata": {},
   "outputs": [],
   "source": [
    "Govt = Govt_Officials()"
   ]
  },
  {
   "cell_type": "code",
   "execution_count": 15,
   "id": "63b0c8d3-26e2-4bca-9ab5-08808bd4af9a",
   "metadata": {},
   "outputs": [
    {
     "data": {
      "text/plain": [
       "'Mr. Arvind Kejriwal is the Cheif Minister of Delhi.'"
      ]
     },
     "execution_count": 15,
     "metadata": {},
     "output_type": "execute_result"
    }
   ],
   "source": [
    "Govt.Cheif_Minister()"
   ]
  },
  {
   "cell_type": "code",
   "execution_count": 16,
   "id": "df8e0846-20d3-49bf-941d-7efcec7356a1",
   "metadata": {},
   "outputs": [
    {
     "data": {
      "text/plain": [
       "'Mr. Narendra Damodar Das Modi is the Prime Minister of INDIA.'"
      ]
     },
     "execution_count": 16,
     "metadata": {},
     "output_type": "execute_result"
    }
   ],
   "source": [
    "Govt.Prime_Minister()"
   ]
  }
 ],
 "metadata": {
  "kernelspec": {
   "display_name": "Python 3 (ipykernel)",
   "language": "python",
   "name": "python3"
  },
  "language_info": {
   "codemirror_mode": {
    "name": "ipython",
    "version": 3
   },
   "file_extension": ".py",
   "mimetype": "text/x-python",
   "name": "python",
   "nbconvert_exporter": "python",
   "pygments_lexer": "ipython3",
   "version": "3.10.8"
  }
 },
 "nbformat": 4,
 "nbformat_minor": 5
}
