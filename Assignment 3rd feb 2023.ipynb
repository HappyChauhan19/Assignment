{
 "cells": [
  {
   "cell_type": "markdown",
   "id": "cd915fb7-f7c1-4ad4-a8d9-a6ef750232a9",
   "metadata": {},
   "source": [
    "Q1. Which keyword is used to create a function? Create a function to return a list of odd numbers in the\n",
    "range of 1 to 25."
   ]
  },
  {
   "cell_type": "markdown",
   "id": "204545d6-c000-479d-b6d3-a05920aaa509",
   "metadata": {},
   "source": [
    "Ans 1. def is used to create a function in python."
   ]
  },
  {
   "cell_type": "code",
   "execution_count": 1,
   "id": "8d8550b8-d8cd-492d-85e4-fc6093723c18",
   "metadata": {},
   "outputs": [],
   "source": [
    "def odd_numbers():\n",
    "    for i in range(1,26):\n",
    "        if i % 2 == 1:\n",
    "            print(i)"
   ]
  },
  {
   "cell_type": "code",
   "execution_count": 2,
   "id": "f6841c01-1e43-4b09-acd1-ae09add7bd81",
   "metadata": {},
   "outputs": [
    {
     "name": "stdout",
     "output_type": "stream",
     "text": [
      "1\n",
      "3\n",
      "5\n",
      "7\n",
      "9\n",
      "11\n",
      "13\n",
      "15\n",
      "17\n",
      "19\n",
      "21\n",
      "23\n",
      "25\n"
     ]
    }
   ],
   "source": [
    "odd_numbers()"
   ]
  },
  {
   "cell_type": "markdown",
   "id": "27971433-0296-453a-af73-ec7fead7c700",
   "metadata": {},
   "source": [
    "Q2. Why *args and **kwargs is used in some functions? Create a function each for *args and **kwargs\n",
    "to demonstrate their use."
   ]
  },
  {
   "cell_type": "markdown",
   "id": "b041b490-05dc-494b-ac92-69d24258a2be",
   "metadata": {},
   "source": [
    "Ans 2.\n",
    "*args is used to create a function and store the data in form of the tuples.\n",
    "**kwargs is used to create a function and stores the data in form of the dict or set.\n",
    "If we try to create function without using *args or **kwargs then it is going to show data in form of the list."
   ]
  },
  {
   "cell_type": "code",
   "execution_count": 3,
   "id": "412eae13-a0ac-4c61-8d80-2f8e954a1bfe",
   "metadata": {},
   "outputs": [],
   "source": [
    "def WWE_superstars(*args):\n",
    "    return args"
   ]
  },
  {
   "cell_type": "code",
   "execution_count": 4,
   "id": "98ea7591-8812-4153-9ab2-3a7656040d84",
   "metadata": {},
   "outputs": [
    {
     "data": {
      "text/plain": [
       "('Roman Reigns',\n",
       " 'Brock lesner',\n",
       " 'Triple H',\n",
       " 'AJ Styles',\n",
       " 'Big show',\n",
       " 'Stardust')"
      ]
     },
     "execution_count": 4,
     "metadata": {},
     "output_type": "execute_result"
    }
   ],
   "source": [
    "WWE_superstars(\"Roman Reigns\", \"Brock lesner\", \"Triple H\", \"AJ Styles\", \"Big show\", \"Stardust\")"
   ]
  },
  {
   "cell_type": "code",
   "execution_count": 5,
   "id": "9374d1cc-1017-4176-b413-30be7f313c83",
   "metadata": {},
   "outputs": [],
   "source": [
    "def Qualifications(**kwargs):\n",
    "    return kwargs"
   ]
  },
  {
   "cell_type": "code",
   "execution_count": 6,
   "id": "3c6f583b-cdd2-4c67-baf6-3bc1d577ce45",
   "metadata": {},
   "outputs": [
    {
     "data": {
      "text/plain": [
       "{'Sunject': ['Hindi', 'Mathematics', 'Physics', 'Chemistry', 'Biology', 'CS'],\n",
       " 'Course': ['BA', 'BSc', 'BCom', 'MBA', 'MCA', 'BCA', 'LLB', 'Phd']}"
      ]
     },
     "execution_count": 6,
     "metadata": {},
     "output_type": "execute_result"
    }
   ],
   "source": [
    "Qualifications(Sunject = [\"Hindi\", \"Mathematics\", \"Physics\", \"Chemistry\", \"Biology\", \"CS\"], Course = [\"BA\", \"BSc\", \"BCom\", \"MBA\", \"MCA\", \"BCA\", \"LLB\", \"Phd\"])"
   ]
  },
  {
   "cell_type": "markdown",
   "id": "24959c5c-8f1a-4b76-be7f-bcca029ab153",
   "metadata": {},
   "source": [
    "Q3. What is an iterator in python? Name the method used to initialise the iterator object and the method\n",
    "used for iteration. Use these methods to print the first five elements of the given list [2, 4, 6, 8, 10, 12, 14,\n",
    "16, 18, 20]."
   ]
  },
  {
   "cell_type": "markdown",
   "id": "b5a5783b-ad3a-4257-8535-ae6b2785d5fb",
   "metadata": {},
   "source": [
    "Ans 3. Iterator is something that contains countable number of values in it. Method used to initialise the iterator object is \"iter\" iter method is used to initialise the iteration of list, tuples, set and dict."
   ]
  },
  {
   "cell_type": "code",
   "execution_count": 7,
   "id": "d3859db4-3e08-4d04-ac75-24f9910cdf98",
   "metadata": {},
   "outputs": [],
   "source": [
    "Given_list = [2,4,6,8,10,12,14,16,18,20]\n",
    "iteration = iter(Given_list)"
   ]
  },
  {
   "cell_type": "code",
   "execution_count": 8,
   "id": "e62ebcdf-7ff2-4b7d-ae94-aaddb599736c",
   "metadata": {},
   "outputs": [
    {
     "data": {
      "text/plain": [
       "2"
      ]
     },
     "execution_count": 8,
     "metadata": {},
     "output_type": "execute_result"
    }
   ],
   "source": [
    "next(iteration)"
   ]
  },
  {
   "cell_type": "code",
   "execution_count": 9,
   "id": "208da66e-5174-4e42-9374-f432747957f0",
   "metadata": {},
   "outputs": [
    {
     "data": {
      "text/plain": [
       "4"
      ]
     },
     "execution_count": 9,
     "metadata": {},
     "output_type": "execute_result"
    }
   ],
   "source": [
    "next(iteration)"
   ]
  },
  {
   "cell_type": "code",
   "execution_count": 10,
   "id": "b0490cc2-f10b-41eb-9d16-25d469a25592",
   "metadata": {},
   "outputs": [
    {
     "data": {
      "text/plain": [
       "6"
      ]
     },
     "execution_count": 10,
     "metadata": {},
     "output_type": "execute_result"
    }
   ],
   "source": [
    "next(iteration)"
   ]
  },
  {
   "cell_type": "code",
   "execution_count": 11,
   "id": "e2bd0dcb-bc15-40b5-a833-134ac95bb667",
   "metadata": {},
   "outputs": [
    {
     "data": {
      "text/plain": [
       "8"
      ]
     },
     "execution_count": 11,
     "metadata": {},
     "output_type": "execute_result"
    }
   ],
   "source": [
    "next(iteration)"
   ]
  },
  {
   "cell_type": "code",
   "execution_count": 12,
   "id": "5da7f9c6-e5c7-4a05-b79d-81e082e42018",
   "metadata": {},
   "outputs": [
    {
     "data": {
      "text/plain": [
       "10"
      ]
     },
     "execution_count": 12,
     "metadata": {},
     "output_type": "execute_result"
    }
   ],
   "source": [
    "next(iteration)"
   ]
  },
  {
   "cell_type": "markdown",
   "id": "000a6e1d-688d-489b-b203-6ade696222c8",
   "metadata": {},
   "source": [
    "Q4. What is a generator function in python? Why yield keyword is used? Give an example of a generator\n",
    "function."
   ]
  },
  {
   "cell_type": "markdown",
   "id": "e51b93a1-5e9f-428c-93f8-a79fc4183fea",
   "metadata": {},
   "source": [
    "In Python, a generator is a function that returns an iterator that produces a sequence of values when iterated over.\n",
    "yield is the main keyword and it converts normal function into the Generator function."
   ]
  },
  {
   "cell_type": "code",
   "execution_count": 13,
   "id": "34ec8438-65bc-492b-8db8-bd6bc7786f48",
   "metadata": {},
   "outputs": [],
   "source": [
    "def nowthen(n):\n",
    "    a, b = 0, 1\n",
    "    for i in range(n):\n",
    "        yield a\n",
    "        a, b = b, a**2"
   ]
  },
  {
   "cell_type": "code",
   "execution_count": 14,
   "id": "d5d3e960-77d1-48a3-b4e1-5cdd2030ec54",
   "metadata": {},
   "outputs": [
    {
     "data": {
      "text/plain": [
       "<generator object nowthen at 0x7fefd37c5bd0>"
      ]
     },
     "execution_count": 14,
     "metadata": {},
     "output_type": "execute_result"
    }
   ],
   "source": [
    "nowthen(12)"
   ]
  },
  {
   "cell_type": "markdown",
   "id": "646c13d2-e494-4d04-a6c4-a81f7c8c9da0",
   "metadata": {},
   "source": [
    "Q5. Create a generator function for prime numbers less than 1000. Use the next() method to print the\n",
    "first 20 prime numbers."
   ]
  },
  {
   "cell_type": "code",
   "execution_count": 15,
   "id": "b129f029-053f-4f34-97fc-fb8aa9bf4e74",
   "metadata": {},
   "outputs": [],
   "source": [
    "Primes = []\n",
    "for i in range(2,1001):\n",
    "    prime = True\n",
    "    for num in range(2, i):\n",
    "        if i % num == 0:\n",
    "            prime = False\n",
    "    if prime:\n",
    "        Primes.append(i)"
   ]
  },
  {
   "cell_type": "code",
   "execution_count": 16,
   "id": "97120aee-501a-48a2-866d-3cb452dab94b",
   "metadata": {},
   "outputs": [
    {
     "name": "stdout",
     "output_type": "stream",
     "text": [
      "[2, 3, 5, 7, 11, 13, 17, 19, 23, 29, 31, 37, 41, 43, 47, 53, 59, 61, 67, 71, 73, 79, 83, 89, 97, 101, 103, 107, 109, 113, 127, 131, 137, 139, 149, 151, 157, 163, 167, 173, 179, 181, 191, 193, 197, 199, 211, 223, 227, 229, 233, 239, 241, 251, 257, 263, 269, 271, 277, 281, 283, 293, 307, 311, 313, 317, 331, 337, 347, 349, 353, 359, 367, 373, 379, 383, 389, 397, 401, 409, 419, 421, 431, 433, 439, 443, 449, 457, 461, 463, 467, 479, 487, 491, 499, 503, 509, 521, 523, 541, 547, 557, 563, 569, 571, 577, 587, 593, 599, 601, 607, 613, 617, 619, 631, 641, 643, 647, 653, 659, 661, 673, 677, 683, 691, 701, 709, 719, 727, 733, 739, 743, 751, 757, 761, 769, 773, 787, 797, 809, 811, 821, 823, 827, 829, 839, 853, 857, 859, 863, 877, 881, 883, 887, 907, 911, 919, 929, 937, 941, 947, 953, 967, 971, 977, 983, 991, 997]\n"
     ]
    }
   ],
   "source": [
    "print(Primes)"
   ]
  },
  {
   "cell_type": "code",
   "execution_count": 17,
   "id": "9a66eeb6-2d42-4a13-b8eb-a2edc47fc441",
   "metadata": {},
   "outputs": [],
   "source": [
    "A = iter(Primes)"
   ]
  },
  {
   "cell_type": "code",
   "execution_count": 18,
   "id": "59495ccc-3910-43d2-aa4f-87cf8f30c156",
   "metadata": {},
   "outputs": [
    {
     "data": {
      "text/plain": [
       "2"
      ]
     },
     "execution_count": 18,
     "metadata": {},
     "output_type": "execute_result"
    }
   ],
   "source": [
    "next(A)"
   ]
  },
  {
   "cell_type": "code",
   "execution_count": 19,
   "id": "8f98826e-447c-4942-a4de-ce4aa5270398",
   "metadata": {},
   "outputs": [
    {
     "data": {
      "text/plain": [
       "3"
      ]
     },
     "execution_count": 19,
     "metadata": {},
     "output_type": "execute_result"
    }
   ],
   "source": [
    "next(A)"
   ]
  },
  {
   "cell_type": "code",
   "execution_count": 20,
   "id": "92a772a1-1dc5-45f8-a362-0b6b2c9c1811",
   "metadata": {},
   "outputs": [
    {
     "data": {
      "text/plain": [
       "5"
      ]
     },
     "execution_count": 20,
     "metadata": {},
     "output_type": "execute_result"
    }
   ],
   "source": [
    "next(A)"
   ]
  },
  {
   "cell_type": "code",
   "execution_count": 21,
   "id": "c590a3e2-b6d0-448c-93df-e561a12787fd",
   "metadata": {},
   "outputs": [
    {
     "data": {
      "text/plain": [
       "7"
      ]
     },
     "execution_count": 21,
     "metadata": {},
     "output_type": "execute_result"
    }
   ],
   "source": [
    "next(A)"
   ]
  },
  {
   "cell_type": "code",
   "execution_count": 22,
   "id": "1cc4173b-0b3b-48cf-b1da-8a99ba54ac01",
   "metadata": {},
   "outputs": [
    {
     "data": {
      "text/plain": [
       "11"
      ]
     },
     "execution_count": 22,
     "metadata": {},
     "output_type": "execute_result"
    }
   ],
   "source": [
    "next(A)"
   ]
  },
  {
   "cell_type": "code",
   "execution_count": 23,
   "id": "7aca746b-9db5-41ab-abb5-736869cf9ed9",
   "metadata": {},
   "outputs": [
    {
     "data": {
      "text/plain": [
       "13"
      ]
     },
     "execution_count": 23,
     "metadata": {},
     "output_type": "execute_result"
    }
   ],
   "source": [
    "next(A)"
   ]
  },
  {
   "cell_type": "code",
   "execution_count": 24,
   "id": "13f3a31f-9f9c-4a7a-97b5-b622b51fc717",
   "metadata": {},
   "outputs": [
    {
     "data": {
      "text/plain": [
       "17"
      ]
     },
     "execution_count": 24,
     "metadata": {},
     "output_type": "execute_result"
    }
   ],
   "source": [
    "next(A)"
   ]
  },
  {
   "cell_type": "code",
   "execution_count": 25,
   "id": "abf64eb5-e669-4b08-9c7b-b63412927159",
   "metadata": {},
   "outputs": [
    {
     "data": {
      "text/plain": [
       "19"
      ]
     },
     "execution_count": 25,
     "metadata": {},
     "output_type": "execute_result"
    }
   ],
   "source": [
    "next(A)"
   ]
  },
  {
   "cell_type": "code",
   "execution_count": 26,
   "id": "d304c585-0d69-4642-b6f7-b947ecf43fbc",
   "metadata": {},
   "outputs": [
    {
     "data": {
      "text/plain": [
       "23"
      ]
     },
     "execution_count": 26,
     "metadata": {},
     "output_type": "execute_result"
    }
   ],
   "source": [
    "next(A)"
   ]
  },
  {
   "cell_type": "code",
   "execution_count": 27,
   "id": "62aa0c33-907c-4083-905f-a2baaa8662be",
   "metadata": {},
   "outputs": [
    {
     "data": {
      "text/plain": [
       "29"
      ]
     },
     "execution_count": 27,
     "metadata": {},
     "output_type": "execute_result"
    }
   ],
   "source": [
    "next(A)"
   ]
  },
  {
   "cell_type": "code",
   "execution_count": 28,
   "id": "a67cea90-bb34-4e8b-b3cf-edf9f67613ae",
   "metadata": {},
   "outputs": [
    {
     "data": {
      "text/plain": [
       "31"
      ]
     },
     "execution_count": 28,
     "metadata": {},
     "output_type": "execute_result"
    }
   ],
   "source": [
    "next(A)"
   ]
  },
  {
   "cell_type": "code",
   "execution_count": 29,
   "id": "6121dad4-6372-47e5-bf1f-df60b10464fe",
   "metadata": {},
   "outputs": [
    {
     "data": {
      "text/plain": [
       "37"
      ]
     },
     "execution_count": 29,
     "metadata": {},
     "output_type": "execute_result"
    }
   ],
   "source": [
    "next(A)"
   ]
  },
  {
   "cell_type": "code",
   "execution_count": 30,
   "id": "7ae9e40a-1793-4ad6-8473-220f8e00385d",
   "metadata": {},
   "outputs": [
    {
     "data": {
      "text/plain": [
       "41"
      ]
     },
     "execution_count": 30,
     "metadata": {},
     "output_type": "execute_result"
    }
   ],
   "source": [
    "next(A)"
   ]
  },
  {
   "cell_type": "code",
   "execution_count": 31,
   "id": "d4cfc25e-462c-47be-be92-b1dc500aad94",
   "metadata": {},
   "outputs": [
    {
     "data": {
      "text/plain": [
       "43"
      ]
     },
     "execution_count": 31,
     "metadata": {},
     "output_type": "execute_result"
    }
   ],
   "source": [
    "next(A)"
   ]
  },
  {
   "cell_type": "code",
   "execution_count": 32,
   "id": "32876a75-2ab6-4201-896e-1d1dd0224e23",
   "metadata": {},
   "outputs": [
    {
     "data": {
      "text/plain": [
       "47"
      ]
     },
     "execution_count": 32,
     "metadata": {},
     "output_type": "execute_result"
    }
   ],
   "source": [
    "next(A)"
   ]
  },
  {
   "cell_type": "code",
   "execution_count": 33,
   "id": "01340982-9239-4962-9b4e-19c90c19bf7b",
   "metadata": {},
   "outputs": [
    {
     "data": {
      "text/plain": [
       "53"
      ]
     },
     "execution_count": 33,
     "metadata": {},
     "output_type": "execute_result"
    }
   ],
   "source": [
    "next(A)"
   ]
  },
  {
   "cell_type": "code",
   "execution_count": 34,
   "id": "6d1214fa-03e8-4478-be93-f9765d46bfa5",
   "metadata": {},
   "outputs": [
    {
     "data": {
      "text/plain": [
       "59"
      ]
     },
     "execution_count": 34,
     "metadata": {},
     "output_type": "execute_result"
    }
   ],
   "source": [
    "next(A)"
   ]
  },
  {
   "cell_type": "code",
   "execution_count": 35,
   "id": "2745a557-2a75-4e76-907b-4ca0304c6436",
   "metadata": {},
   "outputs": [
    {
     "data": {
      "text/plain": [
       "61"
      ]
     },
     "execution_count": 35,
     "metadata": {},
     "output_type": "execute_result"
    }
   ],
   "source": [
    "next(A)"
   ]
  },
  {
   "cell_type": "code",
   "execution_count": 36,
   "id": "89fe03e0-a6fc-410c-b552-2c5c83fbccc4",
   "metadata": {},
   "outputs": [
    {
     "data": {
      "text/plain": [
       "67"
      ]
     },
     "execution_count": 36,
     "metadata": {},
     "output_type": "execute_result"
    }
   ],
   "source": [
    "next(A)"
   ]
  },
  {
   "cell_type": "code",
   "execution_count": 37,
   "id": "7b25e1af-3e9a-4177-9de9-d874f09c00b2",
   "metadata": {},
   "outputs": [
    {
     "data": {
      "text/plain": [
       "71"
      ]
     },
     "execution_count": 37,
     "metadata": {},
     "output_type": "execute_result"
    }
   ],
   "source": [
    "next(A)"
   ]
  },
  {
   "cell_type": "markdown",
   "id": "1ddd67de-6776-4344-b1d9-5ad3f86e74d1",
   "metadata": {},
   "source": [
    "Q6. Write a python program to print the first 10 Fibonacci numbers using a while loop."
   ]
  },
  {
   "cell_type": "code",
   "execution_count": 38,
   "id": "010d7d25-33cf-44f3-a2c9-3cf5ceee067f",
   "metadata": {},
   "outputs": [
    {
     "name": "stdout",
     "output_type": "stream",
     "text": [
      "0\n",
      "1\n",
      "1\n",
      "2\n",
      "3\n",
      "5\n",
      "8\n",
      "13\n",
      "21\n",
      "34\n"
     ]
    }
   ],
   "source": [
    "a, b = 0, 1\n",
    "count = 0\n",
    "while count < 10:\n",
    "    print(a)\n",
    "    c = a + b\n",
    "    a = b\n",
    "    b = c\n",
    "    count = count + 1"
   ]
  },
  {
   "cell_type": "markdown",
   "id": "2543bc3b-40d1-4019-b06e-a4ae54ce47b9",
   "metadata": {},
   "source": [
    "Q7. Write a List Comprehension to iterate through the given string: ‘pwskills’.\n",
    "Expected output: ['p', 'w', 's', 'k', 'i', 'l', 'l', 's']"
   ]
  },
  {
   "cell_type": "code",
   "execution_count": 39,
   "id": "47068081-a10e-45f5-a05f-1e2f3214b0eb",
   "metadata": {},
   "outputs": [],
   "source": [
    "string = \"pwskills\""
   ]
  },
  {
   "cell_type": "code",
   "execution_count": 40,
   "id": "fa87c9e3-285c-4bb7-a65f-09740589f1f3",
   "metadata": {},
   "outputs": [
    {
     "data": {
      "text/plain": [
       "['p', 'w', 's', 'k', 'i', 'l', 'l', 's']"
      ]
     },
     "execution_count": 40,
     "metadata": {},
     "output_type": "execute_result"
    }
   ],
   "source": [
    "list(string)"
   ]
  },
  {
   "cell_type": "markdown",
   "id": "d9516929-59b9-46c7-acdb-d9655f8683e8",
   "metadata": {},
   "source": [
    "Q8. Write a python program to check whether a given number is Palindrome or not using a while loop."
   ]
  },
  {
   "cell_type": "code",
   "execution_count": 41,
   "id": "4c83a82b-38b9-4d6b-81c9-e6a8e9bfc5ec",
   "metadata": {},
   "outputs": [
    {
     "name": "stdin",
     "output_type": "stream",
     "text": [
      "Write the number here:  557686755\n"
     ]
    },
    {
     "name": "stdout",
     "output_type": "stream",
     "text": [
      "It is a pallindrome sequence\n"
     ]
    }
   ],
   "source": [
    "Number = input(\"Write the number here: \")\n",
    "if (Number == Number[::-1]):\n",
    "    print(\"It is a pallindrome sequence\")\n",
    "else:\n",
    "    print(\"It is not a pallindrome sequence\")"
   ]
  },
  {
   "cell_type": "markdown",
   "id": "81b98efa-5cae-4fe5-9d56-4e33c41933c4",
   "metadata": {},
   "source": [
    "Q9. Write a code to print odd numbers from 1 to 100 using list comprehension."
   ]
  },
  {
   "cell_type": "code",
   "execution_count": 43,
   "id": "af22a606-1eaa-4241-b7fe-4c0a52792250",
   "metadata": {},
   "outputs": [],
   "source": [
    "def Odd():\n",
    "    for i in range(1,101):\n",
    "        if i % 2 == 1:\n",
    "            print(i)"
   ]
  },
  {
   "cell_type": "code",
   "execution_count": 44,
   "id": "16cf5fdb-a19e-4fd2-b301-c5a6df674dc1",
   "metadata": {},
   "outputs": [
    {
     "name": "stdout",
     "output_type": "stream",
     "text": [
      "[1, 3, 5, 7, 9, 11, 13, 15, 17, 19, 21, 23, 25, 27, 29, 31, 33, 35, 37, 39, 41, 43, 45, 47, 49, 51, 53, 55, 57, 59, 61, 63, 65, 67, 69, 71, 73, 75, 77, 79, 81, 83, 85, 87, 89, 91, 93, 95, 97, 99]\n"
     ]
    }
   ],
   "source": [
    "print([i for i in range(1,101) if i % 2 == 1])"
   ]
  },
  {
   "cell_type": "code",
   "execution_count": 45,
   "id": "41880da6-7084-485a-abac-ebd75306f470",
   "metadata": {},
   "outputs": [
    {
     "name": "stdout",
     "output_type": "stream",
     "text": [
      "1\n",
      "3\n",
      "5\n",
      "7\n",
      "9\n",
      "11\n",
      "13\n",
      "15\n",
      "17\n",
      "19\n",
      "21\n",
      "23\n",
      "25\n",
      "27\n",
      "29\n",
      "31\n",
      "33\n",
      "35\n",
      "37\n",
      "39\n",
      "41\n",
      "43\n",
      "45\n",
      "47\n",
      "49\n",
      "51\n",
      "53\n",
      "55\n",
      "57\n",
      "59\n",
      "61\n",
      "63\n",
      "65\n",
      "67\n",
      "69\n",
      "71\n",
      "73\n",
      "75\n",
      "77\n",
      "79\n",
      "81\n",
      "83\n",
      "85\n",
      "87\n",
      "89\n",
      "91\n",
      "93\n",
      "95\n",
      "97\n",
      "99\n"
     ]
    }
   ],
   "source": [
    "Odd()"
   ]
  }
 ],
 "metadata": {
  "kernelspec": {
   "display_name": "Python 3 (ipykernel)",
   "language": "python",
   "name": "python3"
  },
  "language_info": {
   "codemirror_mode": {
    "name": "ipython",
    "version": 3
   },
   "file_extension": ".py",
   "mimetype": "text/x-python",
   "name": "python",
   "nbconvert_exporter": "python",
   "pygments_lexer": "ipython3",
   "version": "3.10.8"
  }
 },
 "nbformat": 4,
 "nbformat_minor": 5
}
