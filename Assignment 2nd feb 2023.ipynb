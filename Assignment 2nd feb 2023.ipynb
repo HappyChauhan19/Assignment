{
 "cells": [
  {
   "cell_type": "markdown",
   "id": "242607ed-ddf1-42f1-b7c6-6cd0e8ae6ff9",
   "metadata": {},
   "source": [
    "Q1. Explain with an example each when to use a for loop and a while loop."
   ]
  },
  {
   "cell_type": "markdown",
   "id": "5d94704d-851b-46df-a2fc-67800cdfe827",
   "metadata": {},
   "source": [
    "Ans 1. \n",
    "For loop is a control flow statement that execute code repeatedly for certain number of iteration\n",
    "and it is used when we know how many time code is going to be executed.\n",
    "the keyword used is \"for\" in for loop"
   ]
  },
  {
   "cell_type": "markdown",
   "id": "4d8f0e93-1874-4d41-b0d0-151728bbd284",
   "metadata": {
    "tags": []
   },
   "source": [
    "While loop is executed till the condition is satisfied or till condition is true\n",
    "if it is false then it goes to else statement and execute it.\n",
    "The keyword used in while statement is \"while\""
   ]
  },
  {
   "cell_type": "markdown",
   "id": "74922047-a1f6-4ad6-b3f0-31f05adb4da3",
   "metadata": {},
   "source": [
    "Q2. Write a python program to print the sum and product of the first 10 natural numbers using for and while loop."
   ]
  },
  {
   "cell_type": "markdown",
   "id": "bda783cd-11c6-40cf-842a-b65d9d499206",
   "metadata": {},
   "source": [
    "Ans 2."
   ]
  },
  {
   "cell_type": "code",
   "execution_count": 1,
   "id": "26fc7377-1445-42b9-bbde-95cea13cb740",
   "metadata": {},
   "outputs": [
    {
     "data": {
      "text/plain": [
       "55"
      ]
     },
     "execution_count": 1,
     "metadata": {},
     "output_type": "execute_result"
    }
   ],
   "source": [
    "Result = 0 \n",
    "for i in range(1, 11):\n",
    "    Result = Result + i\n",
    "Result"
   ]
  },
  {
   "cell_type": "code",
   "execution_count": 2,
   "id": "94a71560-79e6-4f12-8552-de601b58df13",
   "metadata": {},
   "outputs": [
    {
     "name": "stdin",
     "output_type": "stream",
     "text": [
      "Enter the number here:  10\n"
     ]
    },
    {
     "data": {
      "text/plain": [
       "55"
      ]
     },
     "execution_count": 2,
     "metadata": {},
     "output_type": "execute_result"
    }
   ],
   "source": [
    "Number = int(input(\"Enter the number here: \"))\n",
    "result = 0\n",
    "i = 1\n",
    "while i <= Number:\n",
    "    result = result + i\n",
    "    i = i + 1\n",
    "result"
   ]
  },
  {
   "cell_type": "markdown",
   "id": "b19f7d7e-1b03-4041-ac10-f3212f715b5f",
   "metadata": {},
   "source": [
    "Q3. Create a Python program to compute the electricity bill for a household.\n",
    "    The per-unit charges in rupees are as follows: For the first 100 units, the user will be charged Rs. 4.5 per\n",
    "    unit, for the next 100 units, the user will be charged Rs. 6 per unit, and for the next 100 units, the user will\n",
    "    be charged Rs. 10 per unit, After 300 units and above the user will be charged Rs. 20 per unit.\n",
    "    You are required to take the units of electricity consumed in a month from the user as input.\n",
    "    Your program must pass this test case: when the unit of electricity consumed by the user in a month is\n",
    "    310, the total electricity bill should be 2250."
   ]
  },
  {
   "cell_type": "markdown",
   "id": "41c130ee-f733-488f-8d14-d3e3e0b87145",
   "metadata": {},
   "source": [
    "Ans 3."
   ]
  },
  {
   "cell_type": "code",
   "execution_count": 3,
   "id": "a5d63def-9c22-4c1f-b74f-46b06edba2d7",
   "metadata": {},
   "outputs": [
    {
     "name": "stdin",
     "output_type": "stream",
     "text": [
      "Enter the units consumed by the household:  310\n"
     ]
    },
    {
     "name": "stdout",
     "output_type": "stream",
     "text": [
      "The total amount of Bill to be paid is:  2250.0\n"
     ]
    }
   ],
   "source": [
    "Units_consumed = int(input(\"Enter the units consumed by the household: \"))\n",
    "Result = 0\n",
    "if Units_consumed <= 100:\n",
    "    Result = Units_consumed * 4.5\n",
    "elif Units_consumed >= 100 and Units_consumed <= 200:\n",
    "    Result = 450.0 + (Units_consumed - 100) * 6\n",
    "elif Units_consumed >= 200 and Units_consumed <= 300:\n",
    "    Result = 450.0 + 600.0 + (Units_consumed - 200) * 10\n",
    "else:\n",
    "    Result = 450.0 + 600 + 1000 + (Units_consumed - 300) * 20\n",
    "print(\"The total amount of Bill to be paid is: \", Result)"
   ]
  },
  {
   "cell_type": "markdown",
   "id": "a3ade6f7-35dd-41ba-b1a7-485f0e428d90",
   "metadata": {},
   "source": [
    "Q4. Create a list of numbers from 1 to 100. Use for loop and while loop to calculate the cube of each number\n",
    "    and if the cube of that number is divisible by 4 or 5 then append that number in a list and print that list."
   ]
  },
  {
   "cell_type": "markdown",
   "id": "2440a966-7236-40fb-898d-e15546a9a7ef",
   "metadata": {},
   "source": [
    "Ans 4."
   ]
  },
  {
   "cell_type": "code",
   "execution_count": 4,
   "id": "9e202130-446d-413f-bd7b-07fff0615a8d",
   "metadata": {
    "tags": []
   },
   "outputs": [
    {
     "name": "stdout",
     "output_type": "stream",
     "text": [
      "[1, 8, 27, 64, 125, 216, 343, 512, 729, 1000, 1331, 1728, 2197, 2744, 3375, 4096, 4913, 5832, 6859, 8000, 9261, 10648, 12167, 13824, 15625, 17576, 19683, 21952, 24389, 27000, 29791, 32768, 35937, 39304, 42875, 46656, 50653, 54872, 59319, 64000, 68921, 74088, 79507, 85184, 91125, 97336, 103823, 110592, 117649, 125000, 132651, 140608, 148877, 157464, 166375, 175616, 185193, 195112, 205379, 216000, 226981, 238328, 250047, 262144, 274625, 287496, 300763, 314432, 328509, 343000, 357911, 373248, 389017, 405224, 421875, 438976, 456533, 474552, 493039, 512000, 531441, 551368, 571787, 592704, 614125, 636056, 658503, 681472, 704969, 729000, 753571, 778688, 804357, 830584, 857375, 884736, 912673, 941192, 970299, 1000000]\n",
      "[[8, 64, 125, 216, 512, 1000, 1728, 2744, 3375, 4096, 5832, 8000, 10648, 13824, 15625, 17576, 21952, 27000, 32768, 39304, 42875, 46656, 54872, 64000, 74088, 85184, 91125, 97336, 110592, 125000, 140608, 157464, 166375, 175616, 195112, 216000, 238328, 262144, 274625, 287496, 314432, 343000, 373248, 405224, 421875, 438976, 474552, 512000, 551368, 592704, 614125, 636056, 681472, 729000, 778688, 830584, 857375, 884736, 941192, 1000000]]\n"
     ]
    }
   ],
   "source": [
    "Numbers = list(range(1,101))\n",
    "Cube = []\n",
    "for i in Numbers:\n",
    "    i = i**3\n",
    "    New = Cube.append(i)\n",
    "print(Cube)\n",
    "Division_by_4_or_5 = [n**3 for n in Numbers if n**3 % 4 == 0 or n**3 % 5 == 0]\n",
    "Division = []\n",
    "Division.append(Division_by_4_or_5)\n",
    "print(Division)"
   ]
  },
  {
   "cell_type": "markdown",
   "id": "2b6b14d5-f138-44f7-a7df-717938364f18",
   "metadata": {},
   "source": [
    "Q5. Write a program to filter count vowels in the below-given string.\n",
    "    string = \"I want to become a data scientist\""
   ]
  },
  {
   "cell_type": "code",
   "execution_count": 5,
   "id": "43a21ca6-576e-4387-8322-8d65e0d5fee9",
   "metadata": {},
   "outputs": [
    {
     "name": "stdout",
     "output_type": "stream",
     "text": [
      "4\n",
      "3\n",
      "2\n",
      "2\n",
      "0\n"
     ]
    }
   ],
   "source": [
    "string = \"I want to become a data scientist\"\n",
    "print(string.count(\"a\"))\n",
    "print(string.count(\"e\"))\n",
    "print(string.count(\"i\"))\n",
    "print(string.count(\"o\"))\n",
    "print(string.count(\"u\"))"
   ]
  },
  {
   "cell_type": "code",
   "execution_count": null,
   "id": "23a68746-60a6-47be-be27-942dc31d4c8d",
   "metadata": {},
   "outputs": [],
   "source": []
  }
 ],
 "metadata": {
  "kernelspec": {
   "display_name": "Python 3 (ipykernel)",
   "language": "python",
   "name": "python3"
  },
  "language_info": {
   "codemirror_mode": {
    "name": "ipython",
    "version": 3
   },
   "file_extension": ".py",
   "mimetype": "text/x-python",
   "name": "python",
   "nbconvert_exporter": "python",
   "pygments_lexer": "ipython3",
   "version": "3.10.8"
  }
 },
 "nbformat": 4,
 "nbformat_minor": 5
}
