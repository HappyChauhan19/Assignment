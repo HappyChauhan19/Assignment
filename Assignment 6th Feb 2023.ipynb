{
 "cells": [
  {
   "cell_type": "markdown",
   "id": "8879e02c-bb7d-4c44-98f3-ba665e58ef35",
   "metadata": {},
   "source": [
    "Q1. Create a function which will take a list as an argument and return the product of all the numbers\n",
    "after creating a flat list.\n",
    "Use the below-given list as an argument for your function.\n",
    "list1 = [1,2,3,4, [44,55,66, True], False, (34,56,78,89,34), {1,2,3,3,2,1}, {1:34, \"key2\": [55, 67, 78, 89], 4: (45,\n",
    "22, 61, 34)}, [56, 'data science'], 'Machine Learning']"
   ]
  },
  {
   "cell_type": "markdown",
   "id": "577bc695-ad16-4629-b2f6-cbc2fcfb4599",
   "metadata": {},
   "source": [
    "Answer 1."
   ]
  },
  {
   "cell_type": "code",
   "execution_count": 1,
   "id": "f0aa88a9-8cae-47bb-a802-6e84205b96a6",
   "metadata": {},
   "outputs": [],
   "source": [
    "List1 = [1,2,3,4, [44,55,66, True], False, (34,56,78,89,34), {1,2,3,3,2,1}, {1:34, \"key2\": [55, 67, 78, 89], 4: (45, 22, 61, 34)}, [56, 'data science'], 'Machine Learning']"
   ]
  },
  {
   "cell_type": "code",
   "execution_count": 2,
   "id": "da43e62c-62e2-4c1b-bc84-6bd55daf10b2",
   "metadata": {},
   "outputs": [
    {
     "data": {
      "text/plain": [
       "[1, 2, 3, 4, 44, 55, 66, 56, 34, 56, 78, 89, 34, 1, 2, 3, 1, 4]"
      ]
     },
     "execution_count": 2,
     "metadata": {},
     "output_type": "execute_result"
    }
   ],
   "source": [
    "New_List = []\n",
    "List_In_List = []\n",
    "Tuple_In_List = []\n",
    "Set_In_List = []\n",
    "Dict_In_List = []\n",
    "for i in List1:\n",
    "    if type(i) == int:\n",
    "        New_List.append(i)\n",
    "New_List\n",
    "for i in List1:\n",
    "    if type(i) == list:\n",
    "        List_In_List.extend(i)\n",
    "for i in List_In_List:\n",
    "    if type(i) == int:\n",
    "        New_List.append(i)\n",
    "for i in List1:\n",
    "    if type(i) == tuple:\n",
    "        Tuple_In_List.extend(i)\n",
    "for i in Tuple_In_List:\n",
    "    if type(i) == int:\n",
    "        New_List.append(i)\n",
    "for i in List1:\n",
    "    if type(i) == set:\n",
    "        Set_In_List.extend(i)\n",
    "for i in Set_In_List:\n",
    "    if type(i) == int:\n",
    "        New_List.append(i)\n",
    "for i in List1:\n",
    "    if type(i) == dict:\n",
    "        Dict_In_List.extend(i)\n",
    "for i in Dict_In_List:\n",
    "    if type(i) == int:\n",
    "        New_List.append(i)\n",
    "New_List"
   ]
  },
  {
   "cell_type": "markdown",
   "id": "ecc6bfd8-21eb-49b0-b44f-93dbdbeaabb9",
   "metadata": {},
   "source": [
    "Q2. Write a python program for encrypting a message sent to you by your friend. The logic of encryption\n",
    "should be such that, for a the output should be z. For b, the output should be y. For c, the output should\n",
    "be x respectively. Also, the whitespace should be replaced with a dollar sign. Keep the punctuation\n",
    "marks unchanged.\n",
    "Input Sentence: I want to become a Data Scientist.\n",
    "Encrypt the above input sentence using the program you just created."
   ]
  },
  {
   "cell_type": "markdown",
   "id": "9ca7e3dc-bf47-4fcc-abd4-c88ee37c62d4",
   "metadata": {},
   "source": [
    "Answer 2."
   ]
  },
  {
   "cell_type": "code",
   "execution_count": 4,
   "id": "2e0e43e0-9ba9-4e73-916e-e508f9c0c5b3",
   "metadata": {},
   "outputs": [
    {
     "name": "stdout",
     "output_type": "stream",
     "text": [
      "Encrypted message: R$dzmg$gl$yvxlnv$z$Wzgz$Hxrvmgrhg.\n"
     ]
    }
   ],
   "source": [
    "def encrypt(letter):\n",
    "    if letter.isalpha():\n",
    "        ascii_val = ord(letter)\n",
    "        if ascii_val>=65 and ascii_val<=90:\n",
    "            return chr(90 - (ascii_val - 65))\n",
    "        else:\n",
    "            return chr(122 - (ascii_val - 97))\n",
    "    elif letter == ' ':\n",
    "        return '$'\n",
    "    else:\n",
    "        return letter\n",
    "\n",
    "\n",
    "\n",
    "msg = \"I want to become a Data Scientist.\"\n",
    "encrypted = ''\n",
    "for letter in msg:\n",
    "    encrypted += encrypt(letter)\n",
    "print('Encrypted message:',encrypted)"
   ]
  }
 ],
 "metadata": {
  "kernelspec": {
   "display_name": "Python 3 (ipykernel)",
   "language": "python",
   "name": "python3"
  },
  "language_info": {
   "codemirror_mode": {
    "name": "ipython",
    "version": 3
   },
   "file_extension": ".py",
   "mimetype": "text/x-python",
   "name": "python",
   "nbconvert_exporter": "python",
   "pygments_lexer": "ipython3",
   "version": "3.10.8"
  },
  "toc-autonumbering": false,
  "toc-showcode": false,
  "toc-showmarkdowntxt": false
 },
 "nbformat": 4,
 "nbformat_minor": 5
}
