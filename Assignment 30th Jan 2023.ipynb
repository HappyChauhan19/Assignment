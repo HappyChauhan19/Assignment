{
 "cells": [
  {
   "cell_type": "markdown",
   "id": "e2eb235d-d494-4dc5-8e1f-76d3df010f9c",
   "metadata": {},
   "source": [
    "Answer 1."
   ]
  },
  {
   "cell_type": "code",
   "execution_count": 1,
   "id": "a135ae1a-51ba-4ad2-982f-3659df1b2d14",
   "metadata": {},
   "outputs": [
    {
     "name": "stdin",
     "output_type": "stream",
     "text": [
      "Percentage :  95\n"
     ]
    },
    {
     "name": "stdout",
     "output_type": "stream",
     "text": [
      "You have got 'A' Grade\n"
     ]
    }
   ],
   "source": [
    "Percentage = int(input(\"Percentage : \"))\n",
    "if Percentage > 90:\n",
    "    print(\"You have got 'A' Grade\")\n",
    "elif Percentage <= 90 and Percentage > 80:\n",
    "    print(\"You have got 'B' Grade\")\n",
    "elif Percentage >= 60 and Percentage <= 80:\n",
    "    print(\"You have got 'C' Grade\")\n",
    "else:\n",
    "    print(\"You have got 'D' Grade\")"
   ]
  },
  {
   "cell_type": "markdown",
   "id": "bceec9c6-d8d7-4ec1-ad5a-194b8d6a2678",
   "metadata": {},
   "source": [
    "Answer 2."
   ]
  },
  {
   "cell_type": "code",
   "execution_count": 2,
   "id": "6e9b7a31-480d-4e83-a152-c5232a0bab8e",
   "metadata": {},
   "outputs": [
    {
     "name": "stdin",
     "output_type": "stream",
     "text": [
      "What is the Cost Price of the Bike:  250000\n"
     ]
    },
    {
     "name": "stdout",
     "output_type": "stream",
     "text": [
      "You have to pay 15% Tax.\n"
     ]
    }
   ],
   "source": [
    "Cost_Price = int(input(\"What is the Cost Price of the Bike: \"))\n",
    "if Cost_Price > 100000:\n",
    "    print(\"You have to pay 15% Tax.\")\n",
    "elif Cost_Price > 50000 and Cost_Price <= 100000:\n",
    "    print(\"You have to pay 10% Tax.\")\n",
    "else:\n",
    "    print(\"You have to pay 5% Tax.\")"
   ]
  },
  {
   "cell_type": "markdown",
   "id": "9c8ef111-754d-4e0e-83d8-ccc527f21288",
   "metadata": {},
   "source": [
    "Answer 3."
   ]
  },
  {
   "cell_type": "code",
   "execution_count": 3,
   "id": "6af13159-d4b1-4676-b6e2-f119bfabbda1",
   "metadata": {},
   "outputs": [
    {
     "name": "stdin",
     "output_type": "stream",
     "text": [
      "What is the name of your City: Delhi\n"
     ]
    },
    {
     "name": "stdout",
     "output_type": "stream",
     "text": [
      "The Monument situated in your city is 'Red Fort'.\n"
     ]
    }
   ],
   "source": [
    "City = input(\"What is the name of your City:\")\n",
    "if City == \"Delhi\":\n",
    "    print(\"The Monument situated in your city is 'Red Fort'.\")\n",
    "elif City == \"Agra\":\n",
    "    print(\"The Monument situated in your city is 'Taj Mahal'.\")\n",
    "elif City == \"Jaipur\":\n",
    "    print(\"The Monument situated in your city is 'Jal Mahal'.\")\n",
    "else:\n",
    "    print(\"Can't find the Momentum in your city.\")"
   ]
  },
  {
   "cell_type": "markdown",
   "id": "c63597f2-37f9-4c67-ad99-7d23028146e6",
   "metadata": {},
   "source": [
    "Question 4. \n",
    "Check how many times a given Number can be divided by 3 before it is less than or equal to 10."
   ]
  },
  {
   "cell_type": "markdown",
   "id": "40b4a4e3-ad58-40d3-963e-4cb55c2c124c",
   "metadata": {},
   "source": [
    "Answer 4."
   ]
  },
  {
   "cell_type": "code",
   "execution_count": 5,
   "id": "6a1bda9b-ef58-463b-8d34-92f2a455c706",
   "metadata": {
    "tags": []
   },
   "outputs": [
    {
     "name": "stdin",
     "output_type": "stream",
     "text": [
      "Enter the number: 300\n"
     ]
    },
    {
     "name": "stdout",
     "output_type": "stream",
     "text": [
      "Total number of times divided 4\n"
     ]
    }
   ],
   "source": [
    "Number = int(input(\"Enter the number:\"))\n",
    "Count = 0\n",
    "while Number > 10:\n",
    "    Number = Number / 3 \n",
    "    Count = Count + 1\n",
    "print(\"Total number of times divided\", Count)"
   ]
  },
  {
   "cell_type": "markdown",
   "id": "9d8044a0-8611-4023-a587-e9ebb76a10b0",
   "metadata": {
    "tags": []
   },
   "source": [
    "Question 5. Why and when to use While loop in python give a detailed description with example."
   ]
  },
  {
   "cell_type": "markdown",
   "id": "a6533083-515f-4638-a04a-fd5a7512d602",
   "metadata": {},
   "source": [
    "Answer 5. While loop is used to get the data until the condition is satisfied.\n",
    "It is used when we don't know that how much loops it is going to take before it satisfies the condition. When we know that till which condition will be satisfied it is used."
   ]
  },
  {
   "cell_type": "code",
   "execution_count": 6,
   "id": "c3720d6d-b1d7-4211-9590-f28c66100824",
   "metadata": {},
   "outputs": [
    {
     "name": "stdout",
     "output_type": "stream",
     "text": [
      "1\n",
      "2\n",
      "3\n",
      "4\n",
      "5\n",
      "6\n",
      "7\n",
      "8\n",
      "9\n",
      "10\n"
     ]
    }
   ],
   "source": [
    "Number = 1\n",
    "while Number < 11:\n",
    "    print(Number)\n",
    "    Number = Number + 1"
   ]
  },
  {
   "cell_type": "markdown",
   "id": "5db288a6-ff91-4d51-b6ae-6f443b473968",
   "metadata": {},
   "source": [
    "Question 6. Use nested while loop to print 3 different pattern."
   ]
  },
  {
   "cell_type": "code",
   "execution_count": 7,
   "id": "d7e78810-e3ac-48cc-9750-f47565dbcc0b",
   "metadata": {},
   "outputs": [
    {
     "name": "stdout",
     "output_type": "stream",
     "text": [
      "0\n",
      "1\n",
      "2\n",
      "3\n",
      "\n",
      "0\n",
      "2\n",
      "4\n",
      "6\n",
      "\n",
      "0\n",
      "3\n",
      "6\n",
      "9\n",
      "\n"
     ]
    }
   ],
   "source": [
    "Naruto = 1\n",
    "while Naruto < 4:\n",
    "    Sasuke = 0\n",
    "    while Sasuke < 4:\n",
    "        print(Naruto*Sasuke)\n",
    "        Sasuke = Sasuke + 1\n",
    "    print()\n",
    "    Naruto = Naruto + 1"
   ]
  },
  {
   "cell_type": "markdown",
   "id": "6d7c760c-cbee-434e-85e1-6553b7c570ba",
   "metadata": {},
   "source": [
    "Question 7. Reverse a while loop to display numbers from 10 to 1."
   ]
  },
  {
   "cell_type": "markdown",
   "id": "17eda157-cd8b-46b3-afd4-d21fa83490c4",
   "metadata": {},
   "source": [
    "Answer 7."
   ]
  },
  {
   "cell_type": "code",
   "execution_count": 8,
   "id": "5cb3e022-0fbb-48a6-8d95-83a350490cbc",
   "metadata": {},
   "outputs": [
    {
     "name": "stdout",
     "output_type": "stream",
     "text": [
      "10\n",
      "9\n",
      "8\n",
      "7\n",
      "6\n",
      "5\n",
      "4\n",
      "3\n",
      "2\n",
      "1\n"
     ]
    }
   ],
   "source": [
    "Number = 10\n",
    "while Number > 0:\n",
    "    print(Number)\n",
    "    Number = Number - 1"
   ]
  },
  {
   "cell_type": "markdown",
   "id": "139e753a-e4b8-4c6d-9630-25c13e7f5155",
   "metadata": {},
   "source": [
    "Question 8. Reverse a while loop to display numbers from 10 to 1."
   ]
  },
  {
   "cell_type": "markdown",
   "id": "0eaf986c-c886-4f85-be36-520d6c4435c5",
   "metadata": {},
   "source": [
    "Answer 8."
   ]
  },
  {
   "cell_type": "code",
   "execution_count": 9,
   "id": "9e77f4f1-c69c-48b5-a94d-fb1a1cce69b8",
   "metadata": {},
   "outputs": [
    {
     "name": "stdout",
     "output_type": "stream",
     "text": [
      "10\n",
      "9\n",
      "8\n",
      "7\n",
      "6\n",
      "5\n",
      "4\n",
      "3\n",
      "2\n",
      "1\n"
     ]
    }
   ],
   "source": [
    "Number = 10\n",
    "while Number > 0:\n",
    "    print(Number)\n",
    "    Number = Number - 1"
   ]
  }
 ],
 "metadata": {
  "kernelspec": {
   "display_name": "Python 3 (ipykernel)",
   "language": "python",
   "name": "python3"
  },
  "language_info": {
   "codemirror_mode": {
    "name": "ipython",
    "version": 3
   },
   "file_extension": ".py",
   "mimetype": "text/x-python",
   "name": "python",
   "nbconvert_exporter": "python",
   "pygments_lexer": "ipython3",
   "version": "3.10.8"
  }
 },
 "nbformat": 4,
 "nbformat_minor": 5
}
