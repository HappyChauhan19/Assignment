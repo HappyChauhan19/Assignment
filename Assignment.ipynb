{
 "cells": [
  {
   "cell_type": "code",
   "execution_count": 1,
   "id": "448047ce-9be2-4a7c-9a35-c68a922e85c4",
   "metadata": {},
   "outputs": [],
   "source": [
    "# Q 1. \t\tWho developed Python Programming Language?\n",
    "# Ans 1. \tGuido van Rossum"
   ]
  },
  {
   "cell_type": "code",
   "execution_count": 2,
   "id": "0ac4f8f1-a513-4037-aa44-91490b3ea329",
   "metadata": {},
   "outputs": [],
   "source": [
    "# Q 2. \t\tWhich type of programming does Python supports?\n",
    "# Ans 2. \tPython supports Object oriented programming and structured programming."
   ]
  },
  {
   "cell_type": "code",
   "execution_count": 3,
   "id": "f83c0604-0401-41c1-bd95-5926bd6bd47f",
   "metadata": {},
   "outputs": [],
   "source": [
    "# Q 3.\t    Is Python case sensitive when dealing with identifiers?\n",
    "# Ans 3. \tYes python is a case sensitive language when we are dealing with identifiers. "
   ]
  },
  {
   "cell_type": "code",
   "execution_count": 4,
   "id": "ef3d8b33-9cef-43ee-8212-6736008cdf37",
   "metadata": {},
   "outputs": [],
   "source": [
    "# Q 4.    \tWhat is the correct extension of the python files?\n",
    "# Ans 4. \tCorrect extension of the Python files is .py     "
   ]
  },
  {
   "cell_type": "code",
   "execution_count": 5,
   "id": "282193c3-47e1-44d2-8b02-e01eae5563a9",
   "metadata": {},
   "outputs": [],
   "source": [
    "# Q 5.  \tIs Python code compiled or interpreted?\n",
    "# Ans 5.\tPython code is of interpreted type."
   ]
  },
  {
   "cell_type": "code",
   "execution_count": 6,
   "id": "ea231ece-8125-4634-9224-cd8c81df2b17",
   "metadata": {},
   "outputs": [],
   "source": [
    "# Q 6. \t    Name a few Blocks of code used to define in python language. \n",
    "# Ans 6.\tLen(), type(), count(), print(), str(), int(), etc are some of the block codes used to define in Python language"
   ]
  },
  {
   "cell_type": "code",
   "execution_count": 7,
   "id": "f8f04525-8498-48bd-a550-dc7be4b731da",
   "metadata": {},
   "outputs": [],
   "source": [
    "# Q 7. \t    State a character used to give single-line comments in python\n",
    "# Ans 7.\tHash(#) is the character when used before a line then it converts it into a comment. We can call it by a short key after selecting a para of text by calling “Crtl + Back slash(/)”"
   ]
  },
  {
   "cell_type": "code",
   "execution_count": 8,
   "id": "0492ab2f-99a6-4efe-a46d-c9b828986221",
   "metadata": {},
   "outputs": [],
   "source": [
    "# Q 8.   \tMention  functions which can help us to find the version of python that we are currently working on. \n",
    "# Ans 8. \tSys.version is the function that help us to find the version of python that we are currently working on."
   ]
  },
  {
   "cell_type": "code",
   "execution_count": 9,
   "id": "3f69379c-0053-45ba-a553-494ae05a6f68",
   "metadata": {},
   "outputs": [],
   "source": [
    "# Q 9.   \tPython supports the creation of anonymous functions at runtime, using a construct called …….\n",
    "# Ans 9. \tLmabda"
   ]
  },
  {
   "cell_type": "code",
   "execution_count": 10,
   "id": "c10240e9-3e22-4444-b9a3-836793f72fa9",
   "metadata": {},
   "outputs": [],
   "source": [
    "# Q 10.  \tWhat does pip stands for in python?\n",
    "# Ans 10. \tPreferred installer program"
   ]
  },
  {
   "cell_type": "code",
   "execution_count": 11,
   "id": "23eb7a04-0775-4bdf-8b46-15904306eb9b",
   "metadata": {},
   "outputs": [],
   "source": [
    "# Q 11.\t    Mention some of the built in functions in python.\n",
    "# Ans 11. \tappend, extend, insert, pop, remove, sort, reverse etc. are some of the inbuilt functions in python."
   ]
  },
  {
   "cell_type": "code",
   "execution_count": 12,
   "id": "8e1d3017-ca9c-4151-ba9d-a58360d28a7e",
   "metadata": {},
   "outputs": [],
   "source": [
    "# Q 12. \tWhat is the maximum possible length of an identifier in Python?\n",
    "# Ans 12.\t79 Characters is the limit for the possible length of an identifier in Python."
   ]
  },
  {
   "cell_type": "code",
   "execution_count": 13,
   "id": "d9bc390a-bf9c-4d51-94ff-5fa58339c714",
   "metadata": {},
   "outputs": [],
   "source": [
    "# Q 13. \tWhat are the benefits of using Python?\n",
    "# Ans 13.\t1. It is easy to understand.\n",
    "#       \t2. It can be used in Data Science, web development etc. \n",
    "#       \t3. Scientific and mathematical computing can be done using python."
   ]
  },
  {
   "cell_type": "code",
   "execution_count": 14,
   "id": "847ec94b-5e40-4beb-8c6c-e836764922e8",
   "metadata": {},
   "outputs": [],
   "source": [
    "# Q 14. \tHow is memory  managed in python?  \n",
    "# Ans 14. \tPython private heap Space."
   ]
  },
  {
   "cell_type": "code",
   "execution_count": 15,
   "id": "3d74fe3d-c618-4425-a63b-e386de454e20",
   "metadata": {},
   "outputs": [],
   "source": [
    "# Q 15. \tHow to install python on windows and set path variables?\n",
    "# Ans 15. \tFirst go to the the python official website and download python according to the system type either it is 32 bit or 64 bit \n",
    "#           Then follow normal installation process \n",
    "#           And for the path go with the following steps\n",
    "#        1. Right-clicking This PC and going to Properties.\n",
    "#        2. Clicking on the Advanced system settings in the menu on the         left.\n",
    "#        3. Clicking on the Environment Variables button on the bottom right.\n",
    "# 4. In the System variables section, selecting the Path variable and clicking on Edit. \n",
    "# 5. The next screen will show all the directories that are currently a part of the PATH variable.\n",
    "# 6. Clicking on New and entering Python’s install directory."
   ]
  },
  {
   "cell_type": "code",
   "execution_count": null,
   "id": "fe48604b-5ade-47a7-9658-cb9cfa729601",
   "metadata": {},
   "outputs": [],
   "source": [
    "# Q 16. \tIs indentation required in python?\n",
    "# Ans 16.\tYes indentation is required in the Python programming language."
   ]
  }
 ],
 "metadata": {
  "kernelspec": {
   "display_name": "Python 3 (ipykernel)",
   "language": "python",
   "name": "python3"
  },
  "language_info": {
   "codemirror_mode": {
    "name": "ipython",
    "version": 3
   },
   "file_extension": ".py",
   "mimetype": "text/x-python",
   "name": "python",
   "nbconvert_exporter": "python",
   "pygments_lexer": "ipython3",
   "version": "3.10.8"
  }
 },
 "nbformat": 4,
 "nbformat_minor": 5
}
