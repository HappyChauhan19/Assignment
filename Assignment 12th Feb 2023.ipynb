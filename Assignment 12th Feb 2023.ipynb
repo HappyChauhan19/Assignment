{
 "cells": [
  {
   "cell_type": "markdown",
   "id": "351286f6-dd6f-42fe-b842-c743580ae15b",
   "metadata": {},
   "source": [
    "Q1. What is an Exception in python? Write the difference between Exception and Syntax errors."
   ]
  },
  {
   "cell_type": "markdown",
   "id": "f7844212-3506-4e08-9834-7f167ca73e73",
   "metadata": {},
   "source": [
    "Ans 1. Exception is detection of an error occured during execution of a code. Even if the code is practically correct but if there is an invalid input or any file is not able to open it shows an error.\n",
    "\n",
    "Exception occurs when user gives some invalid input or try to open a file but code is practically functional if correct input is given but in case of Syntax errors Python is unable to understand what about the code is or what the code want to achieve or when Syntax is not correct like indentation, colons or commas etc."
   ]
  },
  {
   "cell_type": "markdown",
   "id": "1e933ef6-9b60-4c8a-92ec-2556c8530c6f",
   "metadata": {},
   "source": [
    "Q2. What happens when an Exception is not handled? Explain with example."
   ]
  },
  {
   "cell_type": "markdown",
   "id": "ef342f2f-30f5-4ab7-a413-f364ccea691d",
   "metadata": {},
   "source": [
    "Ans2. When an Exception is not handled it gives an error and code can't be executed beyond that but if we handle Exception then code gets executed even when it gives an error."
   ]
  },
  {
   "cell_type": "code",
   "execution_count": 1,
   "id": "a9d7588b-e023-438c-8180-a2c2d1a6be32",
   "metadata": {},
   "outputs": [
    {
     "ename": "ZeroDivisionError",
     "evalue": "division by zero",
     "output_type": "error",
     "traceback": [
      "\u001b[0;31m---------------------------------------------------------------------------\u001b[0m",
      "\u001b[0;31mZeroDivisionError\u001b[0m                         Traceback (most recent call last)",
      "Cell \u001b[0;32mIn[1], line 3\u001b[0m\n\u001b[1;32m      1\u001b[0m \u001b[38;5;66;03m# Example when an error is not handled\u001b[39;00m\n\u001b[0;32m----> 3\u001b[0m A \u001b[38;5;241m=\u001b[39m \u001b[38;5;241;43m10\u001b[39;49m\u001b[38;5;241;43m/\u001b[39;49m\u001b[38;5;241;43m0\u001b[39;49m\n",
      "\u001b[0;31mZeroDivisionError\u001b[0m: division by zero"
     ]
    }
   ],
   "source": [
    "# Example when an error is not handled\n",
    "\n",
    "A = 10/0"
   ]
  },
  {
   "cell_type": "code",
   "execution_count": 2,
   "id": "10aca09d-bf88-44b9-9338-8da0b7007f43",
   "metadata": {},
   "outputs": [
    {
     "name": "stdout",
     "output_type": "stream",
     "text": [
      "division by zero\n"
     ]
    }
   ],
   "source": [
    "# Example when error is handled\n",
    "\n",
    "try:\n",
    "    A = 10/0\n",
    "except ZeroDivisionError as H:\n",
    "    print(H)"
   ]
  },
  {
   "cell_type": "markdown",
   "id": "476b949b-394f-40d3-a659-473c60d9da4f",
   "metadata": {},
   "source": [
    "Q3. Which Python statements are used to catch and handle exceptions? Explain with an example."
   ]
  },
  {
   "cell_type": "markdown",
   "id": "9d0b6050-8401-49ab-97f3-8986fcee1ee6",
   "metadata": {},
   "source": [
    "Ans3. try and except statements are used to catch and handle exceptions"
   ]
  },
  {
   "cell_type": "code",
   "execution_count": 8,
   "id": "3aa81c84-3bdd-49b4-82c5-6d7e82b65036",
   "metadata": {},
   "outputs": [
    {
     "name": "stdout",
     "output_type": "stream",
     "text": [
      "[Errno 2] No such file or directory: 'Happy_Chauhan.txt'\n"
     ]
    }
   ],
   "source": [
    "try:\n",
    "    with open(\"Happy_Chauhan.txt\", \"r\") as H:\n",
    "        H = H.read()\n",
    "        H.close()\n",
    "except FileNotFoundError as P:\n",
    "    print(P)"
   ]
  },
  {
   "cell_type": "markdown",
   "id": "7c911bdf-f0dd-4a25-9cf4-b0f6624fd096",
   "metadata": {},
   "source": [
    "Q4. Explain with an Example:\n",
    "    \n",
    "    a. try and else\n",
    "    b. finally\n",
    "    c. raise"
   ]
  },
  {
   "cell_type": "markdown",
   "id": "a4a444b7-f55f-4734-a654-e92db39c463f",
   "metadata": {},
   "source": [
    "a. try and else \n",
    "if the try block is executed sucessfully the else code will be executed too otherwise only except block will be executed"
   ]
  },
  {
   "cell_type": "code",
   "execution_count": 13,
   "id": "4bbe2d4c-7f60-4e85-a318-8e18c1b7c6e1",
   "metadata": {},
   "outputs": [
    {
     "name": "stdout",
     "output_type": "stream",
     "text": [
      "try code is executed sucessfully without any error\n",
      "else code is executed sucessfully.\n"
     ]
    }
   ],
   "source": [
    "try:\n",
    "    a = 10/5\n",
    "    print(\"try code is executed sucessfully without any error\")\n",
    "except ZeroDivisionError as q:\n",
    "    print(q)\n",
    "else:\n",
    "    print(\"else code is executed sucessfully.\")"
   ]
  },
  {
   "cell_type": "markdown",
   "id": "7637d108-6372-4710-91a6-3d5c8e50d5a9",
   "metadata": {},
   "source": [
    "b. Finally it doesn't depend on any of the outcomes it will be executed both the cases if code don't give error or if it gives an error."
   ]
  },
  {
   "cell_type": "code",
   "execution_count": 14,
   "id": "7a92d782-c0b5-4ee7-99a8-ca53f25f7136",
   "metadata": {},
   "outputs": [
    {
     "name": "stdout",
     "output_type": "stream",
     "text": [
      "division by zero\n",
      "Finally code is executed now.\n"
     ]
    }
   ],
   "source": [
    "try:\n",
    "    a = 10/0\n",
    "    print(\"try code is executed sucessfully without any error.\")\n",
    "except ZeroDivisionError as q:\n",
    "    print(q)\n",
    "else:\n",
    "    print(\"else code is executed sucessfully.\")\n",
    "finally:\n",
    "    print(\"Finally code is executed now.\")"
   ]
  },
  {
   "cell_type": "code",
   "execution_count": 15,
   "id": "97899360-b8a8-4244-a645-8a463acda65c",
   "metadata": {},
   "outputs": [
    {
     "name": "stdout",
     "output_type": "stream",
     "text": [
      "try code is executed sucessfully without any error\n",
      "else code is executed sucessfully.\n",
      "Finally code is executed now.\n"
     ]
    }
   ],
   "source": [
    "try:\n",
    "    a = 10/5\n",
    "    print(\"try code is executed sucessfully without any error\")\n",
    "except ZeroDivisionError as q:\n",
    "    print(q)\n",
    "else:\n",
    "    print(\"else code is executed sucessfully.\")\n",
    "finally:\n",
    "    print(\"Finally code is executed now.\")"
   ]
  },
  {
   "cell_type": "markdown",
   "id": "c29d6efa-b0b9-4358-bae9-909106a0a050",
   "metadata": {},
   "source": [
    "c. Raise it raise any exception object in python and stop your program when an unwanted condition occur and it is used in custom Exception handling"
   ]
  },
  {
   "cell_type": "code",
   "execution_count": null,
   "id": "d516cd4e-14ec-4f2a-a45b-8184f857bdba",
   "metadata": {},
   "outputs": [],
   "source": [
    "class Valid_year(Exception):\n",
    "    def __init__(self, msg):\n",
    "        self.msg = msg\n",
    "        \n",
    "Year = int(input(\"Enter Year of Birth\"))\n",
    "\n",
    "def Validyear(Year):\n",
    "    if Year < 1924:\n",
    "        raise Valid_year(\"No bro you can't be alive anymore.\")\n",
    "    elif Year >= 2024:\n",
    "        raise Valid_year(\"Dude you have to born first to calculate Age.\")\n",
    "    else:\n",
    "        print(\"Your Age is \", 2024 - Year)\n",
    "try:\n",
    "    Year\n",
    "    Validyear(Year)\n",
    "except Exception as e:\n",
    "    print(e)"
   ]
  },
  {
   "cell_type": "code",
   "execution_count": 32,
   "id": "a550efc8-9d41-43b6-8a36-01c77c99f99a",
   "metadata": {},
   "outputs": [
    {
     "name": "stdin",
     "output_type": "stream",
     "text": [
      "Enter Year of Birth 2000\n"
     ]
    },
    {
     "name": "stdout",
     "output_type": "stream",
     "text": [
      "Your Age is  24\n"
     ]
    }
   ],
   "source": [
    "class Valid_year(Exception):\n",
    "    def __init__(self, msg):\n",
    "        self.msg = msg\n",
    "        \n",
    "Year = int(input(\"Enter Year of Birth\"))\n",
    "\n",
    "def Validyear(Year):\n",
    "    if Year < 1924:\n",
    "        raise Valid_year(\"No bro you can't be alive anymore.\")\n",
    "    elif Year >= 2024:\n",
    "        raise Valid_year(\"Dude you have to born first to calculate Age.\")\n",
    "    else:\n",
    "        print(\"Your Age is \", 2024 - Year)\n",
    "try:\n",
    "    Year\n",
    "    Validyear(Year)\n",
    "except Exception as e:\n",
    "    print(e)"
   ]
  },
  {
   "cell_type": "code",
   "execution_count": 31,
   "id": "2a15218a-9801-4948-95c0-24cc4b5c37b0",
   "metadata": {},
   "outputs": [
    {
     "name": "stdin",
     "output_type": "stream",
     "text": [
      "Enter Year of Birth 2025\n"
     ]
    },
    {
     "name": "stdout",
     "output_type": "stream",
     "text": [
      "Dude you have to born first to calculate Age.\n"
     ]
    }
   ],
   "source": [
    "class Valid_year(Exception):\n",
    "    def __init__(self, msg):\n",
    "        self.msg = msg\n",
    "        \n",
    "Year = int(input(\"Enter Year of Birth\"))\n",
    "\n",
    "def Validyear(Year):\n",
    "    if Year < 1924:\n",
    "        raise Valid_year(\"No bro you can't be alive anymore.\")\n",
    "    elif Year >= 2024:\n",
    "        raise Valid_year(\"Dude you have to born first to calculate Age.\")\n",
    "    else:\n",
    "        print(\"Your Age is \", 2024 - Year)\n",
    "try:\n",
    "    Year\n",
    "    Validyear(Year)\n",
    "except Exception as e:\n",
    "    print(e)"
   ]
  },
  {
   "cell_type": "markdown",
   "id": "9a1bb9e9-8850-40cb-82ca-af0f88f59d9c",
   "metadata": {},
   "source": [
    "Q5. What are Custom Exceptions in python? Why do we need Custom Exceptions? Explain with an example."
   ]
  },
  {
   "cell_type": "markdown",
   "id": "112803f7-f52a-4c66-95ed-120e2899012b",
   "metadata": {},
   "source": [
    "Ans5. Custom Exceptions in python are Exceptions which are not listed in the directory and we can customize them according to our need.\n",
    "\n",
    "We need Custom Exception to handle a perticular type of Exception which is not listed in the dir for example negative age as number can be positive and negative but age can't be in negative but according to python it's just number in that case we need cutsom Exception.\n",
    "\n",
    "A perfect example of Custom Exception is given in Ans 4."
   ]
  },
  {
   "cell_type": "code",
   "execution_count": null,
   "id": "a2d5870d-49ce-4d37-b4c4-66d1ad1a839e",
   "metadata": {},
   "outputs": [],
   "source": [
    "Q6. Create a Custom Exception class. Use this class to handle an exv"
   ]
  }
 ],
 "metadata": {
  "kernelspec": {
   "display_name": "Python 3 (ipykernel)",
   "language": "python",
   "name": "python3"
  },
  "language_info": {
   "codemirror_mode": {
    "name": "ipython",
    "version": 3
   },
   "file_extension": ".py",
   "mimetype": "text/x-python",
   "name": "python",
   "nbconvert_exporter": "python",
   "pygments_lexer": "ipython3",
   "version": "3.10.8"
  }
 },
 "nbformat": 4,
 "nbformat_minor": 5
}
