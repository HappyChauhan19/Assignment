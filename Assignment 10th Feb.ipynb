{
 "cells": [
  {
   "cell_type": "markdown",
   "id": "3ef5257e-efae-4521-9ab1-d81a2567f3cf",
   "metadata": {},
   "source": [
    "Q1. Which function is used to open a file? What are the different modes of opening a file? Explain each mode of file opening."
   ]
  },
  {
   "cell_type": "markdown",
   "id": "e873250c-38d2-4467-b276-dce6f5efad0a",
   "metadata": {},
   "source": [
    "Ans1. Open function is used to open a file. There are 2 modes of opening a file which are \n",
    "1. In writing mode \n",
    "2. In reading mode."
   ]
  },
  {
   "cell_type": "code",
   "execution_count": 1,
   "id": "a7c1f3e7-d8dd-4fde-9bfa-75156acdb1cb",
   "metadata": {},
   "outputs": [],
   "source": [
    "H = open(\"Assignment.txt\", \"w\")"
   ]
  },
  {
   "cell_type": "code",
   "execution_count": 2,
   "id": "e89a61b1-6c28-46ab-9337-63cfb93ebb2a",
   "metadata": {},
   "outputs": [
    {
     "data": {
      "text/plain": [
       "36"
      ]
     },
     "execution_count": 2,
     "metadata": {},
     "output_type": "execute_result"
    }
   ],
   "source": [
    "H.write(\"This will open file in writing mode.\")"
   ]
  },
  {
   "cell_type": "code",
   "execution_count": 3,
   "id": "348d3ef7-5267-47f7-8f4f-c1453538b70f",
   "metadata": {},
   "outputs": [],
   "source": [
    "H.close()"
   ]
  },
  {
   "cell_type": "code",
   "execution_count": 4,
   "id": "24ebbec0-178b-4af4-86ee-c895980f21b2",
   "metadata": {},
   "outputs": [],
   "source": [
    "H = open(\"Assignment.txt\", \"r\")"
   ]
  },
  {
   "cell_type": "code",
   "execution_count": 5,
   "id": "e41e50f0-b4f1-461e-a5e0-b161929ada24",
   "metadata": {},
   "outputs": [
    {
     "data": {
      "text/plain": [
       "'This will open file in writing mode.'"
      ]
     },
     "execution_count": 5,
     "metadata": {},
     "output_type": "execute_result"
    }
   ],
   "source": [
    "H.read()"
   ]
  },
  {
   "cell_type": "code",
   "execution_count": 6,
   "id": "e28f76bc-a9db-471e-a910-ebcb26ac5da4",
   "metadata": {},
   "outputs": [],
   "source": [
    "H.close()"
   ]
  },
  {
   "cell_type": "markdown",
   "id": "c517421a-da85-47d1-941a-56ba9bd42b10",
   "metadata": {},
   "source": [
    "Q2. Why close() function is used? Why is it important to close a file?"
   ]
  },
  {
   "cell_type": "markdown",
   "id": "dcf42e90-0d56-40a7-8c71-8778ec264f35",
   "metadata": {},
   "source": [
    "Ans2. Close() function is used to close the file so that we can get the effect of reading and writing operations.\n",
    "It is important to close a file because if we don't call close operation than file will not get updated and won't see the effect of code in the file."
   ]
  },
  {
   "cell_type": "markdown",
   "id": "5a79f9d5-052c-48d4-aab1-f348c64da20f",
   "metadata": {},
   "source": [
    "Q3. Write a python program to create a text file. Write \"I want to become a Data Scientist\" in that file. Then close the file. Open this file and read the content of the file."
   ]
  },
  {
   "cell_type": "markdown",
   "id": "20ca0e94-0b2d-48df-bef2-65d04d3ca51a",
   "metadata": {},
   "source": [
    "Ans3."
   ]
  },
  {
   "cell_type": "code",
   "execution_count": 12,
   "id": "9c340388-ec43-4345-8491-e365b318cbce",
   "metadata": {},
   "outputs": [],
   "source": [
    "H = open(\"Assignment.txt\", \"w\")"
   ]
  },
  {
   "cell_type": "code",
   "execution_count": 13,
   "id": "b93e3bf0-a036-44ab-994d-e725a0c554f0",
   "metadata": {},
   "outputs": [
    {
     "data": {
      "text/plain": [
       "33"
      ]
     },
     "execution_count": 13,
     "metadata": {},
     "output_type": "execute_result"
    }
   ],
   "source": [
    "H.write(\"I want to become a Data Scientist\")"
   ]
  },
  {
   "cell_type": "code",
   "execution_count": 14,
   "id": "02e5819f-e2d4-4809-9de6-39e10498f509",
   "metadata": {},
   "outputs": [],
   "source": [
    "H.close()"
   ]
  },
  {
   "cell_type": "code",
   "execution_count": 15,
   "id": "ccaa5f77-a829-4dff-bdd7-401f3530dd76",
   "metadata": {},
   "outputs": [],
   "source": [
    "H = open(\"Assignment.txt\", \"r\")"
   ]
  },
  {
   "cell_type": "code",
   "execution_count": 16,
   "id": "c9ef950c-5b0a-4d13-8b0e-1dcc96143150",
   "metadata": {},
   "outputs": [
    {
     "data": {
      "text/plain": [
       "'I want to become a Data Scientist'"
      ]
     },
     "execution_count": 16,
     "metadata": {},
     "output_type": "execute_result"
    }
   ],
   "source": [
    "H.read()"
   ]
  },
  {
   "cell_type": "code",
   "execution_count": 17,
   "id": "8d6a2c13-d618-42f3-83e2-b51da93d3746",
   "metadata": {},
   "outputs": [],
   "source": [
    "H.close()"
   ]
  },
  {
   "cell_type": "markdown",
   "id": "356050d9-9ba4-4e3a-aa6c-b47b495bb3be",
   "metadata": {},
   "source": [
    "Q4. Explain the following with python code: read(), readline() and readlines()."
   ]
  },
  {
   "cell_type": "markdown",
   "id": "e947a4e9-90b2-4aba-bba6-212aeefad72e",
   "metadata": {},
   "source": [
    "Ans4."
   ]
  },
  {
   "cell_type": "code",
   "execution_count": 29,
   "id": "03b7816d-9c7c-42d7-ac2e-a280d12b6cf4",
   "metadata": {},
   "outputs": [],
   "source": [
    "H = open(\"Assign.txt\", \"w\")"
   ]
  },
  {
   "cell_type": "code",
   "execution_count": 30,
   "id": "b999317d-7cf9-47cc-bbe5-b82d01683396",
   "metadata": {},
   "outputs": [
    {
     "data": {
      "text/plain": [
       "84"
      ]
     },
     "execution_count": 30,
     "metadata": {},
     "output_type": "execute_result"
    }
   ],
   "source": [
    "H.write(\"In this text file we are going to learn about read(), readline(), readlines() codes.\")"
   ]
  },
  {
   "cell_type": "code",
   "execution_count": 31,
   "id": "32c0d674-93ae-491f-b95e-d71f726a25b0",
   "metadata": {},
   "outputs": [],
   "source": [
    "H.close()"
   ]
  },
  {
   "cell_type": "code",
   "execution_count": 32,
   "id": "7d179aa2-98f5-47ef-bcbe-880147c7484e",
   "metadata": {},
   "outputs": [],
   "source": [
    "H = open(\"Assign.txt\", \"r\")"
   ]
  },
  {
   "cell_type": "code",
   "execution_count": 33,
   "id": "e8ca9482-19cb-4398-a5a8-e71dd0597dcc",
   "metadata": {},
   "outputs": [
    {
     "data": {
      "text/plain": [
       "'In this text file we are going to learn about read(), readline(), readlines() codes.'"
      ]
     },
     "execution_count": 33,
     "metadata": {},
     "output_type": "execute_result"
    }
   ],
   "source": [
    "# In read we get to read full content of the file by calling read for example.\n",
    "H.read()"
   ]
  },
  {
   "cell_type": "code",
   "execution_count": 35,
   "id": "b741579a-d9ea-4cfe-824e-ad325532558e",
   "metadata": {},
   "outputs": [
    {
     "data": {
      "text/plain": [
       "'this text file we are going to learn about read(), readline(), readlines() codes.'"
      ]
     },
     "execution_count": 35,
     "metadata": {},
     "output_type": "execute_result"
    }
   ],
   "source": [
    "# In readline we get to read from a specific point of the text for example\n",
    "H.seek(3)\n",
    "H.readline()"
   ]
  },
  {
   "cell_type": "code",
   "execution_count": 38,
   "id": "bad1a771-3629-4419-ab95-08e213885ff5",
   "metadata": {},
   "outputs": [
    {
     "data": {
      "text/plain": [
       "['s text file we are going to learn about read(), readline(), readlines() codes.']"
      ]
     },
     "execution_count": 38,
     "metadata": {},
     "output_type": "execute_result"
    }
   ],
   "source": [
    "# In readlines we get data from a specific point of the text but in form a list for example\n",
    "H.seek(6)\n",
    "H.readlines(5)"
   ]
  },
  {
   "cell_type": "markdown",
   "id": "090e7e40-fc0d-4d3e-95cd-4dde44618d2d",
   "metadata": {},
   "source": [
    "Q5. Explain why with statement is used with open(). What is the advantage of using with statement and\n",
    "open() together?"
   ]
  },
  {
   "cell_type": "markdown",
   "id": "82e1fa87-ab07-4d94-85da-0a353c2349e6",
   "metadata": {},
   "source": [
    "Ans5. With is used with open() because it automatically closes the file after the code is executed and we can use different type of files format by using with and open these are the major advantages of using with statement and open() together."
   ]
  },
  {
   "cell_type": "markdown",
   "id": "c70a9fe0-21eb-4c46-93a1-870923853463",
   "metadata": {},
   "source": [
    "Q6. Explain the write() and writelines() functions. Give a suitable example."
   ]
  },
  {
   "cell_type": "markdown",
   "id": "befbf113-0167-4e41-8a8b-92498c696b40",
   "metadata": {},
   "source": [
    "Ans6."
   ]
  },
  {
   "cell_type": "code",
   "execution_count": 50,
   "id": "4e359e01-7b05-47b8-9823-eeef4fe3e651",
   "metadata": {},
   "outputs": [],
   "source": [
    "with open(\"myfile.txt\", \"w\") as A:\n",
    "    A.write(\"This is the first line.\\nThis is the second line.\\nThis is the third line.\\n\")\n",
    "A.close()"
   ]
  },
  {
   "cell_type": "code",
   "execution_count": 51,
   "id": "de7c3309-6106-4ecc-86c0-d42125c0309f",
   "metadata": {},
   "outputs": [],
   "source": [
    "# Create a list of strings\n",
    "lines = [\"This is the first line.\\n\", \"This is the second line.\\n\", \"This is the third line.\\n\"]\n",
    "\n",
    "# Open a file for writing\n",
    "# writelines can add a list into a file unlike write statement.\n",
    "with open(\"myfiles.txt\", \"w\") as H:\n",
    "    H.writelines(lines)\n",
    "H.close()"
   ]
  },
  {
   "cell_type": "code",
   "execution_count": 54,
   "id": "0f4a92f6-099b-4445-82ec-f604258ba649",
   "metadata": {},
   "outputs": [
    {
     "name": "stdout",
     "output_type": "stream",
     "text": [
      "This is the first line.\n",
      "This is the second line.\n",
      "This is the third line.\n",
      "\n"
     ]
    }
   ],
   "source": [
    "# This file is of write statement as write statement can't add data of list into a file we provide data as\n",
    "# a string not as a tuple or list.\n",
    "with open(\"myfile.txt\", \"r\") as A:\n",
    "    print(A.read())"
   ]
  },
  {
   "cell_type": "code",
   "execution_count": 55,
   "id": "61a0ca70-3cd8-4c94-96c5-170c025d0ead",
   "metadata": {},
   "outputs": [
    {
     "name": "stdout",
     "output_type": "stream",
     "text": [
      "This is the first line.\n",
      "This is the second line.\n",
      "This is the third line.\n",
      "\n"
     ]
    }
   ],
   "source": [
    "# This file is of writeline statement as writeline statement can add data of list into a file we provided\n",
    "# data in form a list and it can also add data in form of str.\n",
    "with open(\"myfiles.txt\", \"r\") as H:\n",
    "    print(H.read())"
   ]
  },
  {
   "cell_type": "code",
   "execution_count": null,
   "id": "dbcdf32c-ef7c-4c96-8f25-3937bfb0e0a1",
   "metadata": {},
   "outputs": [],
   "source": []
  }
 ],
 "metadata": {
  "kernelspec": {
   "display_name": "Python 3 (ipykernel)",
   "language": "python",
   "name": "python3"
  },
  "language_info": {
   "codemirror_mode": {
    "name": "ipython",
    "version": 3
   },
   "file_extension": ".py",
   "mimetype": "text/x-python",
   "name": "python",
   "nbconvert_exporter": "python",
   "pygments_lexer": "ipython3",
   "version": "3.10.8"
  }
 },
 "nbformat": 4,
 "nbformat_minor": 5
}
