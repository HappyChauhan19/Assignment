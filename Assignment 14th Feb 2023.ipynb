{
 "cells": [
  {
   "cell_type": "markdown",
   "id": "8df4a643-4297-45c7-a44e-3db9bdde2cd0",
   "metadata": {},
   "source": [
    "Q1. What is Multithreading in python? Why is it used? Name the module used to handle threads in python."
   ]
  },
  {
   "cell_type": "markdown",
   "id": "43ca4241-e807-4cad-8ae0-523d1b038b73",
   "metadata": {},
   "source": [
    "Ans1. Multithreading is a way to acheive multitasking by executing multiple threads concurrently. It is used to improve the performance of a python program by allowing multiple tasks to be executed simultaneously. Threading module is used to handle threads in python programming language."
   ]
  },
  {
   "cell_type": "markdown",
   "id": "27146241-008e-4735-a448-07e7663aa966",
   "metadata": {},
   "source": [
    "Q2. Why threading module used? Write the use of the following functions:\n",
    "\n",
    "    1. activecount()\n",
    "    2. currentThread()\n",
    "    3. enumerate()"
   ]
  },
  {
   "cell_type": "markdown",
   "id": "e025bdd2-a6d4-4aa1-aa19-414238682265",
   "metadata": {},
   "source": [
    "Ans2. Threading module is used to acheive multitasking and creating multiple threads to enhance the performance."
   ]
  },
  {
   "cell_type": "code",
   "execution_count": 8,
   "id": "72970e0f-d1de-4f9c-a1bf-f8b5b64c22cb",
   "metadata": {},
   "outputs": [
    {
     "name": "stdout",
     "output_type": "stream",
     "text": [
      "Maths is a my fav subject.\n",
      "8\n",
      "8\n"
     ]
    }
   ],
   "source": [
    "# 1. activecount()\n",
    "# It returns the no of thread objects that are currently active. For Example\n",
    "import threading\n",
    "def Maths():\n",
    "    print(\"Maths is a my fav subject.\")\n",
    "\n",
    "H = threading.Thread(target = Maths)\n",
    "H.start()\n",
    "print(threading.active_count())\n",
    "H.join()\n",
    "print(threading.active_count())"
   ]
  },
  {
   "cell_type": "markdown",
   "id": "3216a66f-a973-4814-b2c7-dfd403717c19",
   "metadata": {},
   "source": [
    "2. currentThreading() returns the current running thread which is different for each thread"
   ]
  },
  {
   "cell_type": "markdown",
   "id": "ddd85030-9264-4e74-9687-244239ecc233",
   "metadata": {},
   "source": [
    "3. enumerate() returns the list of all Thread objects that are currently alive"
   ]
  },
  {
   "cell_type": "markdown",
   "id": "ff1f10d8-6e7c-4a31-aac9-4ea7846e2e31",
   "metadata": {},
   "source": [
    "Q3. Explain the following functions:\n",
    "    \n",
    "    1. run()\n",
    "    2. start()\n",
    "    3. join()\n",
    "    4. isAlive()"
   ]
  },
  {
   "cell_type": "markdown",
   "id": "e03f65a8-fc00-453e-a4a1-31d8c1c993d5",
   "metadata": {},
   "source": [
    "Ans3.\n",
    "    \n",
    "    1. run() function is used to start a new Thread.\n",
    "    2. start() function start the Thread and invokes the run() method to create a thread.\n",
    "    3. join() function is a string method in python that takes an iterable as an argument and returns a string that is concatenation of string in the iterable.\n",
    "    4. isAlive() function is used to check if a thread is still running and if it is running then it returns True else False."
   ]
  },
  {
   "cell_type": "markdown",
   "id": "721ea48c-ddae-4637-9a64-80d60dea5e58",
   "metadata": {},
   "source": [
    "Q4. Write a Python program to create two threads. Thread one must print the list of squares and thread two must print the list of cubes."
   ]
  },
  {
   "cell_type": "markdown",
   "id": "452382de-8d91-4242-af77-3643837bbb32",
   "metadata": {},
   "source": [
    "Ans4."
   ]
  },
  {
   "cell_type": "code",
   "execution_count": 53,
   "id": "f643b78e-8d37-4566-b2a8-d04270b04e3c",
   "metadata": {},
   "outputs": [
    {
     "name": "stdout",
     "output_type": "stream",
     "text": [
      "List of Square\n",
      "0\n",
      "1\n",
      "4\n",
      "9\n",
      "16\n",
      "25\n",
      "36\n",
      "49\n",
      "64\n",
      "81\n",
      "100\n",
      "List of Cube\n",
      "0\n",
      "1\n",
      "8\n",
      "27\n",
      "64\n",
      "125\n",
      "216\n",
      "343\n",
      "512\n",
      "729\n",
      "1000\n"
     ]
    }
   ],
   "source": [
    "import threading\n",
    "print(\"List of Square\")\n",
    "def Square(id):\n",
    "    print(\"%d\"% id)\n",
    "Sq = [threading.Thread(target = Square, args =  (i**2,)) for i in range(11)]\n",
    "for i in Sq:\n",
    "    i.start()\n",
    "\n",
    "print(\"List of Cube\")\n",
    "def Cube(id):\n",
    "    print(\"%d\"% id)\n",
    "Cube = [threading.Thread(target = Cube, args = (i**3,)) for i in range(11)]\n",
    "for i in Cube:\n",
    "    i.start()"
   ]
  },
  {
   "cell_type": "markdown",
   "id": "11b72337-4806-4b5a-91c7-a77f40c75a0c",
   "metadata": {},
   "source": [
    "Q5. State advantages and disadvantages of multithreading."
   ]
  },
  {
   "cell_type": "markdown",
   "id": "71030faa-7c5b-43ca-a67e-0434b10063dd",
   "metadata": {},
   "source": [
    "Ans5. Advantages of multithreading:\n",
    "    \n",
    "    1. Better resource Utilization\n",
    "    2. Simplified Modeling\n",
    "    3. Improved performace\n",
    "    4. Better Responsiveness\n",
    "    5. Resource Sharing, etc."
   ]
  },
  {
   "cell_type": "markdown",
   "id": "5e9d067f-0a72-4ef5-95f4-53e0d24ac0da",
   "metadata": {},
   "source": [
    "Disadvantages of Multithreading:\n",
    "    \n",
    "    1. Complexity, Syncronization issues\n",
    "    2. Debugging Difficulty\n",
    "    3. Performance issue to to switching and scheduling of threads etc."
   ]
  },
  {
   "cell_type": "markdown",
   "id": "5b3f290c-7189-4372-b3fc-d5c37edd7240",
   "metadata": {},
   "source": [
    "Q6. Explain deadlocks and race conditions."
   ]
  },
  {
   "cell_type": "markdown",
   "id": "00fe3b92-b98a-4ebc-908b-66d91fe195c0",
   "metadata": {},
   "source": [
    "Ans6. A deadlock is a condition in which 2 threads wait for each other to finish and in this condition neither thread can finish and program remains stuck.\n",
    "        \n",
    "Race condition is a condition in which 2 threads try to access the same variable at the same time in this condition outcome depends upon which thread access the variable first."
   ]
  },
  {
   "cell_type": "code",
   "execution_count": null,
   "id": "a50b7164-851d-4d3e-b88e-251a06b1c5ca",
   "metadata": {},
   "outputs": [],
   "source": []
  }
 ],
 "metadata": {
  "kernelspec": {
   "display_name": "Python 3 (ipykernel)",
   "language": "python",
   "name": "python3"
  },
  "language_info": {
   "codemirror_mode": {
    "name": "ipython",
    "version": 3
   },
   "file_extension": ".py",
   "mimetype": "text/x-python",
   "name": "python",
   "nbconvert_exporter": "python",
   "pygments_lexer": "ipython3",
   "version": "3.10.8"
  }
 },
 "nbformat": 4,
 "nbformat_minor": 5
}
