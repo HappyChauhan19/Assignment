{
 "cells": [
  {
   "cell_type": "markdown",
   "id": "d2c04511-6994-4488-abd2-d364cb7532b3",
   "metadata": {},
   "source": [
    "Q1. Create a vehicle class with an init method having instance variables as name_of_vehicle, max_speed and average_of_vehicle."
   ]
  },
  {
   "cell_type": "markdown",
   "id": "b3258684-2288-4fca-bd44-7462d959870e",
   "metadata": {},
   "source": [
    "Ans1."
   ]
  },
  {
   "cell_type": "code",
   "execution_count": 2,
   "id": "7d4d23c9-92fa-4f08-9c2f-2863c0d09f07",
   "metadata": {},
   "outputs": [],
   "source": [
    "class Vehicle:\n",
    "    \n",
    "    def __init__(self, Name_of_Vehicle, Max_Speed, Average_of_Vehicle):\n",
    "        self.Name_of_Vehicle = Name_of_Vehicle\n",
    "        self.Max_Speed = Max_Speed\n",
    "        self.Average_of_Vehicle = Average_of_Vehicle"
   ]
  },
  {
   "cell_type": "markdown",
   "id": "d83ee97d-e8b2-4dce-ac28-fef93bd4eb52",
   "metadata": {},
   "source": [
    "Q2. Create a child class car from the vehicle class created in Que 1, which will inherit the vehicle class. Create a method named seating_capacity which takes capacity as an argument and returns the name of the vehicle and its seating capacity."
   ]
  },
  {
   "cell_type": "markdown",
   "id": "906888aa-d494-4fc3-8e8c-f577ce02346c",
   "metadata": {},
   "source": [
    "Ans2."
   ]
  },
  {
   "cell_type": "code",
   "execution_count": 3,
   "id": "91676f93-b6e2-4e11-8138-c2d623353e83",
   "metadata": {},
   "outputs": [],
   "source": [
    "vehicle = Vehicle(\"Mercedes\", \"450 Km/h\", \"18 Km/l\")"
   ]
  },
  {
   "cell_type": "code",
   "execution_count": 13,
   "id": "df222f50-ffc9-431b-8628-2d971c5105f2",
   "metadata": {},
   "outputs": [],
   "source": [
    "class car(Vehicle):\n",
    "    def Seating_Capacity(self, Capacity):\n",
    "        self.Capacity = Capacity"
   ]
  },
  {
   "cell_type": "code",
   "execution_count": 14,
   "id": "102888c8-6f13-4c6f-963d-fcdbfb65f266",
   "metadata": {},
   "outputs": [],
   "source": [
    "Car = car(\"Mercedes\", \"450 Km/h\", \"18 Km/l\")"
   ]
  },
  {
   "cell_type": "code",
   "execution_count": 17,
   "id": "ea560640-e7c5-4bb3-8e7d-0d48d1795f41",
   "metadata": {},
   "outputs": [],
   "source": [
    "Car.Seating_Capacity(2)"
   ]
  },
  {
   "cell_type": "code",
   "execution_count": 18,
   "id": "4c787cd2-0976-4de7-bc28-0e93f60cc4a0",
   "metadata": {},
   "outputs": [
    {
     "data": {
      "text/plain": [
       "2"
      ]
     },
     "execution_count": 18,
     "metadata": {},
     "output_type": "execute_result"
    }
   ],
   "source": [
    "Car.Capacity"
   ]
  },
  {
   "cell_type": "code",
   "execution_count": 19,
   "id": "7643022f-7244-4874-8bde-a284bcf165c0",
   "metadata": {},
   "outputs": [
    {
     "data": {
      "text/plain": [
       "'18 Km/l'"
      ]
     },
     "execution_count": 19,
     "metadata": {},
     "output_type": "execute_result"
    }
   ],
   "source": [
    "Car.Average_of_Vehicle"
   ]
  },
  {
   "cell_type": "code",
   "execution_count": 20,
   "id": "7ec34383-df98-404c-81a3-9010e0f4013d",
   "metadata": {},
   "outputs": [
    {
     "data": {
      "text/plain": [
       "'450 Km/h'"
      ]
     },
     "execution_count": 20,
     "metadata": {},
     "output_type": "execute_result"
    }
   ],
   "source": [
    "Car.Max_Speed"
   ]
  },
  {
   "cell_type": "code",
   "execution_count": 21,
   "id": "37089647-dedb-46a2-abb2-0ca9b2a591bb",
   "metadata": {},
   "outputs": [
    {
     "data": {
      "text/plain": [
       "'Mercedes'"
      ]
     },
     "execution_count": 21,
     "metadata": {},
     "output_type": "execute_result"
    }
   ],
   "source": [
    "Car.Name_of_Vehicle"
   ]
  },
  {
   "cell_type": "markdown",
   "id": "ab506c4b-3c52-4fd4-8d60-69f65df5c8b3",
   "metadata": {},
   "source": [
    "Q3. What is multiple inheritance? Write a python code to demonstrate multiple inheritance."
   ]
  },
  {
   "cell_type": "markdown",
   "id": "4e891069-bdd7-4ad9-ae54-efd8f01011db",
   "metadata": {},
   "source": [
    "Ans3. Mutiple inheritance is a method in which a class inherit multiple parent classes this. Above defined class is a perfect example of multiple inheritance or inheritance."
   ]
  },
  {
   "cell_type": "markdown",
   "id": "1df26cab-6087-41a6-9b6b-c63b2bf82412",
   "metadata": {},
   "source": [
    "Q4. What are getter and setter in python? Create a class and create a getter and setter method in this class."
   ]
  },
  {
   "cell_type": "markdown",
   "id": "64c88dea-69a6-4e73-a429-4a06bab5fde6",
   "metadata": {},
   "source": [
    "Ans4. Getter and Setter are special methods in which one can get value for a attribute using getter method and one can set a value for a perticular attribute using setter method. Those are often used in Data Encapsulation. We can control how data is accessed and modified."
   ]
  },
  {
   "cell_type": "code",
   "execution_count": 58,
   "id": "dbbc3c18-70d8-4f6a-a3b8-708ce8fda30d",
   "metadata": {},
   "outputs": [],
   "source": [
    "class Force:\n",
    "    \n",
    "    def __init__(self, Mass, Gravity, Coefficient_of_Friction):\n",
    "        self.__Mass = Mass\n",
    "        self.__Gravity = 10\n",
    "        self.__Coefficient_of_Friction = Coefficient_of_Friction\n",
    "        \n",
    "    def get_Gravity(self):\n",
    "        return self.__Gravity\n",
    "    \n",
    "    def set_Gravity(self, Gravity):\n",
    "        self.__Gravity = 9.8 if Gravity <= 9.8 else 10\n",
    "            "
   ]
  },
  {
   "cell_type": "code",
   "execution_count": 59,
   "id": "de32f08d-5797-46aa-be0f-d6a7c5d79c0b",
   "metadata": {},
   "outputs": [],
   "source": [
    "Force = Force(90, 9.8, 0.2)"
   ]
  },
  {
   "cell_type": "code",
   "execution_count": 60,
   "id": "e0249e78-1daa-4cac-8ddb-d72c4484e328",
   "metadata": {},
   "outputs": [
    {
     "data": {
      "text/plain": [
       "90"
      ]
     },
     "execution_count": 60,
     "metadata": {},
     "output_type": "execute_result"
    }
   ],
   "source": [
    "Force._Force__Mass"
   ]
  },
  {
   "cell_type": "code",
   "execution_count": 61,
   "id": "fadfb86a-c0c1-481f-b714-8a1b6047e5e2",
   "metadata": {},
   "outputs": [
    {
     "data": {
      "text/plain": [
       "10"
      ]
     },
     "execution_count": 61,
     "metadata": {},
     "output_type": "execute_result"
    }
   ],
   "source": [
    "Force._Force__Gravity"
   ]
  },
  {
   "cell_type": "code",
   "execution_count": 62,
   "id": "99cd8160-5949-450d-b2cb-e4b3730b1451",
   "metadata": {},
   "outputs": [
    {
     "data": {
      "text/plain": [
       "0.2"
      ]
     },
     "execution_count": 62,
     "metadata": {},
     "output_type": "execute_result"
    }
   ],
   "source": [
    "Force._Force__Coefficient_of_Friction"
   ]
  },
  {
   "cell_type": "code",
   "execution_count": 63,
   "id": "ff5c8fed-6df0-4dba-a502-0917963a857f",
   "metadata": {},
   "outputs": [
    {
     "data": {
      "text/plain": [
       "10"
      ]
     },
     "execution_count": 63,
     "metadata": {},
     "output_type": "execute_result"
    }
   ],
   "source": [
    "Force.get_Gravity()"
   ]
  },
  {
   "cell_type": "code",
   "execution_count": 64,
   "id": "b8517973-dfbf-4236-9e06-429f664c1b0c",
   "metadata": {},
   "outputs": [],
   "source": [
    "Force.set_Gravity(9.5)"
   ]
  },
  {
   "cell_type": "code",
   "execution_count": 65,
   "id": "835645c4-062d-49bd-92a3-c728daf96014",
   "metadata": {},
   "outputs": [
    {
     "data": {
      "text/plain": [
       "9.8"
      ]
     },
     "execution_count": 65,
     "metadata": {},
     "output_type": "execute_result"
    }
   ],
   "source": [
    "Force._Force__Gravity"
   ]
  },
  {
   "cell_type": "markdown",
   "id": "4483401c-ae3c-4f41-91cd-9631f08378c0",
   "metadata": {},
   "source": [
    "Q5. What is method overriding in python? Write a python code to demonstrate method overriding."
   ]
  },
  {
   "cell_type": "markdown",
   "id": "f8eabf14-28a7-4039-98b0-5511fa9a6f3c",
   "metadata": {},
   "source": [
    "Ans5. Method overriding is a feature that allows a class to have multiple methods with same name but different parameters lists."
   ]
  },
  {
   "cell_type": "code",
   "execution_count": 77,
   "id": "86a80a9d-c700-4ca1-ab96-95525fe8438f",
   "metadata": {},
   "outputs": [],
   "source": [
    "class Sum:\n",
    "    \n",
    "    def Addition(self, Num_1 , Num_2, Num_3):\n",
    "        return Num_1+Num_2+Num_3\n",
    "    \n",
    "    def Addition(self, Num_1, Num_2):\n",
    "        return Num_1+Num_2\n",
    "    \n",
    "    def Addition(self, Num_1, Num_2, Num_3, Num_4):\n",
    "        return Num_1+Num_2+Num_3+Num_4"
   ]
  },
  {
   "cell_type": "code",
   "execution_count": 78,
   "id": "c974cfd9-ac1f-472e-8e54-f693b9b1553a",
   "metadata": {},
   "outputs": [],
   "source": [
    "My_Sum = Sum()"
   ]
  },
  {
   "cell_type": "code",
   "execution_count": 80,
   "id": "03b7093e-e1d5-4f4e-87fa-8359b3d5acb6",
   "metadata": {},
   "outputs": [
    {
     "ename": "TypeError",
     "evalue": "Sum.Addition() missing 2 required positional arguments: 'Num_3' and 'Num_4'",
     "output_type": "error",
     "traceback": [
      "\u001b[0;31m---------------------------------------------------------------------------\u001b[0m",
      "\u001b[0;31mTypeError\u001b[0m                                 Traceback (most recent call last)",
      "Cell \u001b[0;32mIn[80], line 1\u001b[0m\n\u001b[0;32m----> 1\u001b[0m \u001b[38;5;28mprint\u001b[39m(\u001b[43mMy_Sum\u001b[49m\u001b[38;5;241;43m.\u001b[39;49m\u001b[43mAddition\u001b[49m\u001b[43m(\u001b[49m\u001b[38;5;241;43m3\u001b[39;49m\u001b[43m,\u001b[49m\u001b[38;5;241;43m5\u001b[39;49m\u001b[43m)\u001b[49m)\n",
      "\u001b[0;31mTypeError\u001b[0m: Sum.Addition() missing 2 required positional arguments: 'Num_3' and 'Num_4'"
     ]
    }
   ],
   "source": [
    "print(My_Sum.Addition(3,5))"
   ]
  },
  {
   "cell_type": "code",
   "execution_count": 81,
   "id": "bf82e4c7-9465-4f91-950d-46fd057c264e",
   "metadata": {},
   "outputs": [
    {
     "name": "stdout",
     "output_type": "stream",
     "text": [
      "10\n"
     ]
    }
   ],
   "source": [
    "print(My_Sum.Addition(1,2,3,4))"
   ]
  },
  {
   "cell_type": "code",
   "execution_count": null,
   "id": "f4151c1a-2432-44a7-ab53-ee3a070d9300",
   "metadata": {},
   "outputs": [],
   "source": []
  }
 ],
 "metadata": {
  "kernelspec": {
   "display_name": "Python 3 (ipykernel)",
   "language": "python",
   "name": "python3"
  },
  "language_info": {
   "codemirror_mode": {
    "name": "ipython",
    "version": 3
   },
   "file_extension": ".py",
   "mimetype": "text/x-python",
   "name": "python",
   "nbconvert_exporter": "python",
   "pygments_lexer": "ipython3",
   "version": "3.10.8"
  }
 },
 "nbformat": 4,
 "nbformat_minor": 5
}
